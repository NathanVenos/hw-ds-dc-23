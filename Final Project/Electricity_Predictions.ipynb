{
 "cells": [
  {
   "attachments": {},
   "cell_type": "markdown",
   "metadata": {},
   "source": [
    "## Problem Statement\n",
    "#### Predictions of building electricity usage are needed to aid the Government of the District of Columbia in electricity analysis and budgeting for their buildings.\n",
    "\n",
    "## SMART Goals\n",
    "#### Develop a model to predict a given building's electricity usage for each month in 2017 within 10% of the actual usage based on historical data (electricity usage, weather, etc.) from the years 2013-2016.\n",
    "\n",
    "#### Then add the 2017 historical data to the model's training data to predict the usage for 2018."
   ]
  },
  {
   "cell_type": "code",
   "execution_count": 1,
   "metadata": {
    "collapsed": true
   },
   "outputs": [],
   "source": [
    "import pandas as pd\n",
    "import requests\n",
    "import matplotlib.pyplot as plt\n",
    "import numpy as np\n",
    "import datetime as dt\n",
    "from sklearn.model_selection import KFold\n",
    "from sklearn.linear_model import LinearRegression\n",
    "from sklearn import metrics\n",
    "\n",
    "# display plots in the notebook\n",
    "%matplotlib inline\n",
    "\n",
    "# increase default figure and font sizes for easier viewing\n",
    "plt.rcParams['figure.figsize'] = (10, 6)\n",
    "plt.rcParams['font.size'] = 14"
   ]
  },
  {
   "cell_type": "code",
   "execution_count": 2,
   "metadata": {
    "collapsed": true,
    "scrolled": true
   },
   "outputs": [],
   "source": [
    "# start-time defined as 1/1/2013 00:00:00 ETC\n",
    "# start_time = 1357016400\n",
    "# # start-time defined as 12/31/2017 23:45:00 ETC\n",
    "# end_time = 1514781900\n",
    "\n",
    "# for simplicity I'm using UTC, but the above could be used if I wanted to use ETC, which is what the DC Gov't operates under\n",
    "# start-time defined as 1/1/2013 00:00:00 UTC\n",
    "start_time = 1356998400\n",
    "# start-time defined as 12/31/2017 23:45:00 UTC\n",
    "end_time = 1514763900\n",
    "\n",
    "# insert (list of) building ID(s)\n",
    "bldg_ids = [255]"
   ]
  },
  {
   "cell_type": "code",
   "execution_count": 3,
   "metadata": {
    "collapsed": true
   },
   "outputs": [],
   "source": [
    "# api function to gather selected buildings electrical usage\n",
    "def get_bldg_data(bldg):\n",
    "    temp = requests.get('https://api.newcityenergy.com/v1/buildings/'+str(bldg)+'/interval_data?start_time='+str(start_time)+'&end_time='+str(end_time)+'&data_quality=clean')\n",
    "    tempdf = pd.DataFrame.from_dict(temp.json(),orient='index')\n",
    "    tempindex = []\n",
    "    for x in temp.json().keys():\n",
    "        x = float(x)\n",
    "        x = int(x)\n",
    "        tempindex.append(x)\n",
    "    tempdf.set_index(pd.DataFrame(tempindex)[0], inplace=True)\n",
    "    tempdf.rename(columns={0:str(bldg)+'_elec_use'}, inplace=True)\n",
    "    tempdf.index = pd.to_datetime(tempindex, unit='s')\n",
    "    tempdf.sort_index(inplace=True)\n",
    "    return tempdf"
   ]
  },
  {
   "cell_type": "code",
   "execution_count": 4,
   "metadata": {
    "collapsed": true
   },
   "outputs": [],
   "source": [
    "# creating dataframe of historical electricity usage for the selected site\n",
    "bldg_data = pd.DataFrame()\n",
    "for b in bldg_ids:\n",
    "    bldg_data = bldg_data.merge(get_bldg_data(b),left_index=True,right_index=True,how='outer')\n",
    "bldg_data.index.rename('UTC_Datetime', inplace=True)\n",
    "bldg_data.fillna(0, inplace=True)\n",
    "bldg_data_day = bldg_data.resample('D').sum()\n",
    "# ideally I'd create a better way to fill in the missing/0 values with estimated usage based on similar times,\n",
    "# but it's only about 1% of values, so I've left it out for this version of the project."
   ]
  },
  {
   "cell_type": "code",
   "execution_count": 5,
   "metadata": {
    "collapsed": true
   },
   "outputs": [],
   "source": [
    "# I downloaded historical weather data for Washington, DC and saved it here: Historical_Weather_Data.csv\n",
    "weather_data = pd.read_csv('Historical_Weather_Data.csv',index_col=0,parse_dates=True)\n",
    "weather_data = weather_data.fillna(0)\n",
    "weather_data.index = pd.to_datetime(weather_data.index, unit='s')\n",
    "# resampling manages when a given hour occurs more than once\n",
    "weather_data = weather_data.resample('H').mean()"
   ]
  },
  {
   "cell_type": "code",
   "execution_count": 6,
   "metadata": {
    "collapsed": true
   },
   "outputs": [],
   "source": [
    "# instantiating weather feature dataframe\n",
    "weather_features = pd.DataFrame(index=weather_data.index)"
   ]
  },
  {
   "cell_type": "code",
   "execution_count": 7,
   "metadata": {
    "collapsed": true
   },
   "outputs": [],
   "source": [
    "# Calculating Heating Degree Days and Cooling Degree Days to quantify heating and cooling needs of the buildings from temp data\n",
    "# This data is a regression ready way to better represent weather's impacts on heating/cooling electrical use\n",
    "baseline_temp = 291.483\n",
    "weather_features['HDD'] = weather_data.temp.apply(lambda x: np.max([(baseline_temp-x)/24,0]))\n",
    "weather_features['CDD'] = weather_data.temp.apply(lambda x: np.max([(x-baseline_temp)/24,0]))\n",
    "# 70 F = 294.261\n",
    "# 65 F = 291.483"
   ]
  },
  {
   "cell_type": "code",
   "execution_count": 8,
   "metadata": {
    "collapsed": true
   },
   "outputs": [],
   "source": [
    "# interpolating missing Degree Days. Normally it's just one or a few hours missing at a time, \n",
    "# meaning interpolation is an accurate way to fill the values, but occaisionally large time periods are missing,\n",
    "# meaning interpolating those values is less accurate. A better data source or more complex data filling strategy could be used\n",
    "# in future versions of this project.\n",
    "weather_features.interpolate(method='linear',axis=0,inplace=True)"
   ]
  },
  {
   "cell_type": "code",
   "execution_count": 9,
   "metadata": {
    "collapsed": true
   },
   "outputs": [],
   "source": [
    "# resampling degree day data. The first line takes the average when a given hour has multiple entries.\n",
    "# The second line generates daily data.\n",
    "weather_features = weather_features.resample('D').sum()"
   ]
  },
  {
   "cell_type": "code",
   "execution_count": 10,
   "metadata": {},
   "outputs": [],
   "source": [
    "weather_features = weather_features['20130101':'20171231']\n",
    "# weather_features.head()"
   ]
  },
  {
   "cell_type": "code",
   "execution_count": 11,
   "metadata": {
    "collapsed": true
   },
   "outputs": [],
   "source": [
    "# I created a csv with:\n",
    "# a binary for whether a day is an offical DC gov workday (per their website), which should inform occupant electricity use,\n",
    "# and the minutes of daylight in a given day (from NOAA), which should inform day v night electricity use and capture seasonality\n",
    "DC_features = pd.read_csv('Historical_Work_Sunlight_Data.csv',index_col=0,parse_dates=True)"
   ]
  },
  {
   "cell_type": "code",
   "execution_count": 12,
   "metadata": {},
   "outputs": [],
   "source": [
    "# DC_features.head()"
   ]
  },
  {
   "cell_type": "code",
   "execution_count": 13,
   "metadata": {
    "collapsed": true
   },
   "outputs": [],
   "source": [
    "# merge onto weather features\n",
    "features = weather_features.merge(DC_features,left_index=True,right_index=True)"
   ]
  },
  {
   "cell_type": "code",
   "execution_count": 14,
   "metadata": {},
   "outputs": [],
   "source": [
    "# for testing feature combinations\n",
    "# features.drop(['HDD'],axis=1,inplace=True)"
   ]
  },
  {
   "cell_type": "code",
   "execution_count": 15,
   "metadata": {
    "scrolled": true
   },
   "outputs": [],
   "source": [
    "# features.tail(20)"
   ]
  },
  {
   "cell_type": "code",
   "execution_count": 16,
   "metadata": {
    "collapsed": true
   },
   "outputs": [],
   "source": [
    "train_features = features['20130101':'20161231']\n",
    "test_features = features['20170101':'20171231']\n",
    "train_target = bldg_data_day['20130101':'20161231']\n",
    "test_target = bldg_data_day['20170101':'20171231']\n",
    "feature_cols = train_features.columns"
   ]
  },
  {
   "cell_type": "code",
   "execution_count": 17,
   "metadata": {},
   "outputs": [],
   "source": [
    "# Since the training data is 4 years, I believe 4 folds without shuffle=True will essentially give me a fold per year\n",
    "# possibly with a small complication due to 2016 being a leap year\n",
    "folds = 4\n",
    "\n",
    "kf = KFold(n_splits=folds)\n",
    "# if I wanted random folding then: \",random_state=123,shuffle=True\""
   ]
  },
  {
   "cell_type": "code",
   "execution_count": 18,
   "metadata": {
    "collapsed": true
   },
   "outputs": [],
   "source": [
    "k_lr = LinearRegression()\n",
    "k_MAE_scores = []\n",
    "k_MSE_scores = []\n",
    "k_RMSE_scores = []\n",
    "k_R2_scores = []"
   ]
  },
  {
   "cell_type": "code",
   "execution_count": 19,
   "metadata": {},
   "outputs": [],
   "source": [
    "for train,test in kf.split(train_features):\n",
    "    # Set up your training and testing sets\n",
    "    k_x_train = train_features.iloc[train]\n",
    "    k_x_test = train_features.iloc[test]\n",
    "    k_y_train = train_target.iloc[train]\n",
    "    k_y_true = train_target.iloc[test]\n",
    "    \n",
    "    # Fit your model on your training x and training y\n",
    "    k_lr.fit(k_x_train,k_y_train)\n",
    "    \n",
    "    # Make Predictions\n",
    "    k_y_preds = k_lr.predict(k_x_test)\n",
    "    \n",
    "    # Score your predictions vs. your true values using mean_squared_error\n",
    "    k_MAE_fold_score = metrics.mean_absolute_error(k_y_true, k_y_preds)\n",
    "    k_MSE_fold_score = metrics.mean_squared_error(k_y_true, k_y_preds)\n",
    "    k_RMSE_fold_score = np.sqrt(metrics.mean_squared_error(k_y_true, k_y_preds))\n",
    "    k_R2_fold_score = k_lr.score(train_features,train_target)\n",
    "    \n",
    "    # Append your score \n",
    "    k_MAE_scores.append(k_MAE_fold_score)\n",
    "    k_MSE_scores.append(k_MSE_fold_score)\n",
    "    k_RMSE_scores.append(k_RMSE_fold_score)\n",
    "    k_R2_scores.append(k_R2_fold_score)"
   ]
  },
  {
   "cell_type": "code",
   "execution_count": 20,
   "metadata": {},
   "outputs": [
    {
     "name": "stdout",
     "output_type": "stream",
     "text": [
      "Mean MAE Scores:  4256.87658551\n",
      "Mean MSE Scores:  35122444.4399\n",
      "Mean RMSE Scores:  5752.29173986\n",
      "Mean R2 Scores:  0.429302690985\n"
     ]
    }
   ],
   "source": [
    "print('Mean MAE Scores: ',np.mean(k_MAE_scores))\n",
    "print('Mean MSE Scores: ',np.mean(k_MSE_scores))\n",
    "print('Mean RMSE Scores: ',np.mean(k_RMSE_scores))\n",
    "print('Mean R2 Scores: ',np.mean(k_R2_scores))"
   ]
  },
  {
   "cell_type": "code",
   "execution_count": 21,
   "metadata": {
    "collapsed": true
   },
   "outputs": [],
   "source": [
    "# I played around with the features, and found:\n",
    "# HDD was important ~.17 R2 impact\n",
    "# CDD was important ~.16 R2 impact\n",
    "# Sunlight was important ~.1 R2 impact\n",
    "# Workday was a little helpful ~.01 R2 impact"
   ]
  },
  {
   "cell_type": "code",
   "execution_count": 22,
   "metadata": {
    "scrolled": true
   },
   "outputs": [
    {
     "data": {
      "text/plain": [
       "LinearRegression(copy_X=True, fit_intercept=True, n_jobs=1, normalize=False)"
      ]
     },
     "execution_count": 22,
     "metadata": {},
     "output_type": "execute_result"
    }
   ],
   "source": [
    "lr = LinearRegression()\n",
    "lr.fit(train_features,train_target)"
   ]
  },
  {
   "cell_type": "code",
   "execution_count": 23,
   "metadata": {
    "collapsed": true
   },
   "outputs": [],
   "source": [
    "test_preds = lr.predict(test_features)"
   ]
  },
  {
   "cell_type": "code",
   "execution_count": 24,
   "metadata": {
    "collapsed": true
   },
   "outputs": [],
   "source": [
    "MAE_score = metrics.mean_absolute_error(test_target, test_preds)\n",
    "MSE_score = metrics.mean_squared_error(test_target, test_preds)\n",
    "RMSE_score = np.sqrt(metrics.mean_squared_error(test_target, test_preds))\n",
    "R2_score = lr.score(test_features, test_target)"
   ]
  },
  {
   "cell_type": "code",
   "execution_count": 25,
   "metadata": {},
   "outputs": [
    {
     "name": "stdout",
     "output_type": "stream",
     "text": [
      "MAE Score:  3728.49282941\n",
      "MSE Score:  30113148.7065\n",
      "RMSE Score:  5487.54487057\n",
      "R2 Score:  0.0537966297248\n",
      "Actual 2017 kWh:  7430475.319999994\n",
      "Pred 2017 kWh:  8246990.91271\n",
      "% Error of Actual v Pred 2017 kWh:  0.109887397179\n"
     ]
    }
   ],
   "source": [
    "print('MAE Score: ',MAE_score)\n",
    "print('MSE Score: ',MSE_score)\n",
    "print('RMSE Score: ',RMSE_score)\n",
    "print('R2 Score: ',R2_score)\n",
    "print('Actual 2017 kWh: ',test_target['255_elec_use'].sum())\n",
    "print('Pred 2017 kWh: ',test_preds.sum())\n",
    "print('% Error of Actual v Pred 2017 kWh: ',\\\n",
    "      (test_preds.sum()-test_target['255_elec_use'].sum())/test_target['255_elec_use'].sum())"
   ]
  },
  {
   "cell_type": "code",
   "execution_count": 26,
   "metadata": {},
   "outputs": [
    {
     "data": {
      "text/plain": [
       "Text(0,0.5,'Predicted')"
      ]
     },
     "execution_count": 26,
     "metadata": {},
     "output_type": "execute_result"
    },
    {
     "data": {
      "image/png": "[encoded data removed]",
      "text/plain": [
       "<matplotlib.figure.Figure at 0x289b567bd68>"
      ]
     },
     "metadata": {},
     "output_type": "display_data"
    }
   ],
   "source": [
    "plt.scatter(test_target['255_elec_use'], test_preds)\n",
    "plt.xlabel('Actual')\n",
    "plt.ylabel('Predicted')"
   ]
  },
  {
   "cell_type": "code",
   "execution_count": 27,
   "metadata": {
    "collapsed": true
   },
   "outputs": [],
   "source": [
    "# the data points on the far left have Actual Usage substantially lower than the building's normal usage and are likely\n",
    "# caused by missing electricty data, which is throwing off the model to a certain extent"
   ]
  },
  {
   "cell_type": "code",
   "execution_count": 28,
   "metadata": {
    "scrolled": true
   },
   "outputs": [],
   "source": [
    "test_residuals = test_preds - test_target\n",
    "# print(test_residuals)"
   ]
  },
  {
   "cell_type": "code",
   "execution_count": 29,
   "metadata": {},
   "outputs": [
    {
     "data": {
      "text/plain": [
       "(array([  27.,   85.,  142.,   69.,   26.,    4.,    4.,    4.,    2.,    2.]),\n",
       " array([ -7648.39053637,  -3956.83206948,   -265.2736026 ,   3426.28486428,\n",
       "          7117.84333116,  10809.40179804,  14500.96026493,  18192.51873181,\n",
       "         21884.07719869,  25575.63566557,  29267.19413245]),\n",
       " <a list of 10 Patch objects>)"
      ]
     },
     "execution_count": 29,
     "metadata": {},
     "output_type": "execute_result"
    },
    {
     "data": {
      "image/png": "[encoded data removed]",
      "text/plain": [
       "<matplotlib.figure.Figure at 0x289b775f358>"
      ]
     },
     "metadata": {},
     "output_type": "display_data"
    }
   ],
   "source": [
    "plt.hist(test_residuals['255_elec_use'])"
   ]
  },
  {
   "cell_type": "code",
   "execution_count": 30,
   "metadata": {},
   "outputs": [],
   "source": [
    "test_preds_df = pd.DataFrame(test_preds,index=test_target.index,columns=['kwh_pred'])\n",
    "# test_preds_df.head()"
   ]
  },
  {
   "cell_type": "code",
   "execution_count": 31,
   "metadata": {},
   "outputs": [],
   "source": [
    "test_target_monthly = test_target['255_elec_use'].resample('M').sum()\n",
    "test_preds_monthly = test_preds_df['kwh_pred'].resample('M').sum()"
   ]
  },
  {
   "cell_type": "code",
   "execution_count": 32,
   "metadata": {},
   "outputs": [
    {
     "name": "stdout",
     "output_type": "stream",
     "text": [
      "UTC_Datetime\n",
      "2017-01-31     9.033187\n",
      "2017-02-28    -3.999797\n",
      "2017-03-31    -2.480258\n",
      "2017-04-30    -2.947552\n",
      "2017-05-31   -11.762254\n",
      "2017-06-30     4.894125\n",
      "2017-07-31     4.090244\n",
      "2017-08-31    20.264364\n",
      "2017-09-30    12.216781\n",
      "2017-10-31    28.514574\n",
      "2017-11-30    35.724801\n",
      "2017-12-31    45.600813\n",
      "Freq: M, dtype: float64\n",
      "10.988739717855431\n"
     ]
    }
   ],
   "source": [
    "monthly_residuals = test_preds_monthly - test_target_monthly\n",
    "monthly_percent_off = ((test_preds_monthly - test_target_monthly) / test_target_monthly) * 100\n",
    "annual_percent_off = ((test_preds_monthly.sum() - test_target_monthly.sum()) / test_target_monthly.sum()) * 100\n",
    "print(monthly_percent_off)\n",
    "print(annual_percent_off)"
   ]
  },
  {
   "cell_type": "code",
   "execution_count": 42,
   "metadata": {},
   "outputs": [
    {
     "data": {
      "text/plain": [
       "Text(0,0.5,'Monthly Residuals')"
      ]
     },
     "execution_count": 42,
     "metadata": {},
     "output_type": "execute_result"
    },
    {
     "data": {
      "image/png": "[encoded data removed]",
      "text/plain": [
       "<matplotlib.figure.Figure at 0x289b5a983c8>"
      ]
     },
     "metadata": {},
     "output_type": "display_data"
    }
   ],
   "source": [
    "plt.bar([1,2,3,4,5,6,7,8,9,10,11,12],monthly_residuals)\n",
    "plt.xlabel('Month of 2017')\n",
    "plt.ylabel('Monthly Residuals')"
   ]
  },
  {
   "cell_type": "code",
   "execution_count": 43,
   "metadata": {},
   "outputs": [
    {
     "data": {
      "text/plain": [
       "Text(0,0.5,'Monthly % Error')"
      ]
     },
     "execution_count": 43,
     "metadata": {},
     "output_type": "execute_result"
    },
    {
     "data": {
      "image/png": "[encoded data removed]",
      "text/plain": [
       "<matplotlib.figure.Figure at 0x289b5b1bba8>"
      ]
     },
     "metadata": {},
     "output_type": "display_data"
    }
   ],
   "source": [
    "plt.bar([1,2,3,4,5,6,7,8,9,10,11,12],monthly_percent_off)\n",
    "plt.xlabel('Month of 2017')\n",
    "plt.ylabel('Monthly % Error')"
   ]
  },
  {
   "cell_type": "code",
   "execution_count": 34,
   "metadata": {
    "scrolled": true
   },
   "outputs": [
    {
     "data": {
      "text/html": [
       "<div>\n",
       "<style>\n",
       "    .dataframe thead tr:only-child th {\n",
       "        text-align: right;\n",
       "    }\n",
       "\n",
       "    .dataframe thead th {\n",
       "        text-align: left;\n",
       "    }\n",
       "\n",
       "    .dataframe tbody tr th {\n",
       "        vertical-align: top;\n",
       "    }\n",
       "</style>\n",
       "<table border=\"1\" class=\"dataframe\">\n",
       "  <thead>\n",
       "    <tr style=\"text-align: right;\">\n",
       "      <th></th>\n",
       "      <th></th>\n",
       "      <th>temp</th>\n",
       "    </tr>\n",
       "    <tr>\n",
       "      <th>dt</th>\n",
       "      <th>dt</th>\n",
       "      <th></th>\n",
       "    </tr>\n",
       "  </thead>\n",
       "  <tbody>\n",
       "    <tr>\n",
       "      <th rowspan=\"12\" valign=\"top\">2013</th>\n",
       "      <th>1</th>\n",
       "      <td>145</td>\n",
       "    </tr>\n",
       "    <tr>\n",
       "      <th>2</th>\n",
       "      <td>67</td>\n",
       "    </tr>\n",
       "    <tr>\n",
       "      <th>3</th>\n",
       "      <td>132</td>\n",
       "    </tr>\n",
       "    <tr>\n",
       "      <th>4</th>\n",
       "      <td>14</td>\n",
       "    </tr>\n",
       "    <tr>\n",
       "      <th>5</th>\n",
       "      <td>3</td>\n",
       "    </tr>\n",
       "    <tr>\n",
       "      <th>6</th>\n",
       "      <td>71</td>\n",
       "    </tr>\n",
       "    <tr>\n",
       "      <th>7</th>\n",
       "      <td>34</td>\n",
       "    </tr>\n",
       "    <tr>\n",
       "      <th>8</th>\n",
       "      <td>112</td>\n",
       "    </tr>\n",
       "    <tr>\n",
       "      <th>9</th>\n",
       "      <td>287</td>\n",
       "    </tr>\n",
       "    <tr>\n",
       "      <th>10</th>\n",
       "      <td>379</td>\n",
       "    </tr>\n",
       "    <tr>\n",
       "      <th>11</th>\n",
       "      <td>147</td>\n",
       "    </tr>\n",
       "    <tr>\n",
       "      <th>12</th>\n",
       "      <td>35</td>\n",
       "    </tr>\n",
       "    <tr>\n",
       "      <th rowspan=\"11\" valign=\"top\">2014</th>\n",
       "      <th>1</th>\n",
       "      <td>32</td>\n",
       "    </tr>\n",
       "    <tr>\n",
       "      <th>3</th>\n",
       "      <td>5</td>\n",
       "    </tr>\n",
       "    <tr>\n",
       "      <th>4</th>\n",
       "      <td>38</td>\n",
       "    </tr>\n",
       "    <tr>\n",
       "      <th>5</th>\n",
       "      <td>87</td>\n",
       "    </tr>\n",
       "    <tr>\n",
       "      <th>6</th>\n",
       "      <td>403</td>\n",
       "    </tr>\n",
       "    <tr>\n",
       "      <th>7</th>\n",
       "      <td>136</td>\n",
       "    </tr>\n",
       "    <tr>\n",
       "      <th>8</th>\n",
       "      <td>616</td>\n",
       "    </tr>\n",
       "    <tr>\n",
       "      <th>9</th>\n",
       "      <td>720</td>\n",
       "    </tr>\n",
       "    <tr>\n",
       "      <th>10</th>\n",
       "      <td>744</td>\n",
       "    </tr>\n",
       "    <tr>\n",
       "      <th>11</th>\n",
       "      <td>720</td>\n",
       "    </tr>\n",
       "    <tr>\n",
       "      <th>12</th>\n",
       "      <td>744</td>\n",
       "    </tr>\n",
       "    <tr>\n",
       "      <th rowspan=\"12\" valign=\"top\">2015</th>\n",
       "      <th>1</th>\n",
       "      <td>744</td>\n",
       "    </tr>\n",
       "    <tr>\n",
       "      <th>2</th>\n",
       "      <td>672</td>\n",
       "    </tr>\n",
       "    <tr>\n",
       "      <th>3</th>\n",
       "      <td>744</td>\n",
       "    </tr>\n",
       "    <tr>\n",
       "      <th>4</th>\n",
       "      <td>720</td>\n",
       "    </tr>\n",
       "    <tr>\n",
       "      <th>5</th>\n",
       "      <td>744</td>\n",
       "    </tr>\n",
       "    <tr>\n",
       "      <th>6</th>\n",
       "      <td>573</td>\n",
       "    </tr>\n",
       "    <tr>\n",
       "      <th>7</th>\n",
       "      <td>7</td>\n",
       "    </tr>\n",
       "    <tr>\n",
       "      <th>8</th>\n",
       "      <td>14</td>\n",
       "    </tr>\n",
       "    <tr>\n",
       "      <th>9</th>\n",
       "      <td>68</td>\n",
       "    </tr>\n",
       "    <tr>\n",
       "      <th>10</th>\n",
       "      <td>255</td>\n",
       "    </tr>\n",
       "    <tr>\n",
       "      <th>11</th>\n",
       "      <td>323</td>\n",
       "    </tr>\n",
       "    <tr>\n",
       "      <th>12</th>\n",
       "      <td>305</td>\n",
       "    </tr>\n",
       "    <tr>\n",
       "      <th rowspan=\"12\" valign=\"top\">2016</th>\n",
       "      <th>1</th>\n",
       "      <td>283</td>\n",
       "    </tr>\n",
       "    <tr>\n",
       "      <th>2</th>\n",
       "      <td>187</td>\n",
       "    </tr>\n",
       "    <tr>\n",
       "      <th>3</th>\n",
       "      <td>271</td>\n",
       "    </tr>\n",
       "    <tr>\n",
       "      <th>4</th>\n",
       "      <td>121</td>\n",
       "    </tr>\n",
       "    <tr>\n",
       "      <th>5</th>\n",
       "      <td>23</td>\n",
       "    </tr>\n",
       "    <tr>\n",
       "      <th>6</th>\n",
       "      <td>7</td>\n",
       "    </tr>\n",
       "    <tr>\n",
       "      <th>7</th>\n",
       "      <td>6</td>\n",
       "    </tr>\n",
       "    <tr>\n",
       "      <th>8</th>\n",
       "      <td>1</td>\n",
       "    </tr>\n",
       "    <tr>\n",
       "      <th>9</th>\n",
       "      <td>9</td>\n",
       "    </tr>\n",
       "    <tr>\n",
       "      <th>10</th>\n",
       "      <td>19</td>\n",
       "    </tr>\n",
       "    <tr>\n",
       "      <th>11</th>\n",
       "      <td>3</td>\n",
       "    </tr>\n",
       "    <tr>\n",
       "      <th>12</th>\n",
       "      <td>17</td>\n",
       "    </tr>\n",
       "    <tr>\n",
       "      <th rowspan=\"8\" valign=\"top\">2017</th>\n",
       "      <th>2</th>\n",
       "      <td>15</td>\n",
       "    </tr>\n",
       "    <tr>\n",
       "      <th>3</th>\n",
       "      <td>4</td>\n",
       "    </tr>\n",
       "    <tr>\n",
       "      <th>4</th>\n",
       "      <td>9</td>\n",
       "    </tr>\n",
       "    <tr>\n",
       "      <th>7</th>\n",
       "      <td>6</td>\n",
       "    </tr>\n",
       "    <tr>\n",
       "      <th>8</th>\n",
       "      <td>1</td>\n",
       "    </tr>\n",
       "    <tr>\n",
       "      <th>9</th>\n",
       "      <td>4</td>\n",
       "    </tr>\n",
       "    <tr>\n",
       "      <th>11</th>\n",
       "      <td>4</td>\n",
       "    </tr>\n",
       "    <tr>\n",
       "      <th>12</th>\n",
       "      <td>4</td>\n",
       "    </tr>\n",
       "  </tbody>\n",
       "</table>\n",
       "</div>"
      ],
      "text/plain": [
       "         temp\n",
       "dt   dt      \n",
       "2013 1    145\n",
       "     2     67\n",
       "     3    132\n",
       "     4     14\n",
       "     5      3\n",
       "     6     71\n",
       "     7     34\n",
       "     8    112\n",
       "     9    287\n",
       "     10   379\n",
       "     11   147\n",
       "     12    35\n",
       "2014 1     32\n",
       "     3      5\n",
       "     4     38\n",
       "     5     87\n",
       "     6    403\n",
       "     7    136\n",
       "     8    616\n",
       "     9    720\n",
       "     10   744\n",
       "     11   720\n",
       "     12   744\n",
       "2015 1    744\n",
       "     2    672\n",
       "     3    744\n",
       "     4    720\n",
       "     5    744\n",
       "     6    573\n",
       "     7      7\n",
       "     8     14\n",
       "     9     68\n",
       "     10   255\n",
       "     11   323\n",
       "     12   305\n",
       "2016 1    283\n",
       "     2    187\n",
       "     3    271\n",
       "     4    121\n",
       "     5     23\n",
       "     6      7\n",
       "     7      6\n",
       "     8      1\n",
       "     9      9\n",
       "     10    19\n",
       "     11     3\n",
       "     12    17\n",
       "2017 2     15\n",
       "     3      4\n",
       "     4      9\n",
       "     7      6\n",
       "     8      1\n",
       "     9      4\n",
       "     11     4\n",
       "     12     4"
      ]
     },
     "execution_count": 34,
     "metadata": {},
     "output_type": "execute_result"
    }
   ],
   "source": [
    "# counting missing weather points\n",
    "weather_data_used = weather_data['20130101':'20171231']\n",
    "weather_data_used = pd.DataFrame(weather_data_used.temp, index=weather_data_used.index)\n",
    "weather_data_null = weather_data_used[weather_data_used['temp'].isnull()]\n",
    "weather_data_null = weather_data_null.fillna(0)\n",
    "weather_data_null.groupby([weather_data_null.index.year,weather_data_null.index.month]).agg('count').head(60)\n",
    "# lots of missing data, particularly in the early years, this may be part of issues found throughout the project"
   ]
  },
  {
   "cell_type": "code",
   "execution_count": 40,
   "metadata": {},
   "outputs": [
    {
     "data": {
      "text/plain": [
       "temp    11834\n",
       "dtype: int64"
      ]
     },
     "execution_count": 40,
     "metadata": {},
     "output_type": "execute_result"
    }
   ],
   "source": [
    "weather_data_null.groupby([weather_data_null.index.month]).agg('count').head(12)"
   ]
  },
  {
   "cell_type": "code",
   "execution_count": 35,
   "metadata": {},
   "outputs": [
    {
     "data": {
      "text/html": [
       "<div>\n",
       "<style>\n",
       "    .dataframe thead tr:only-child th {\n",
       "        text-align: right;\n",
       "    }\n",
       "\n",
       "    .dataframe thead th {\n",
       "        text-align: left;\n",
       "    }\n",
       "\n",
       "    .dataframe tbody tr th {\n",
       "        vertical-align: top;\n",
       "    }\n",
       "</style>\n",
       "<table border=\"1\" class=\"dataframe\">\n",
       "  <thead>\n",
       "    <tr style=\"text-align: right;\">\n",
       "      <th></th>\n",
       "      <th></th>\n",
       "      <th>255_elec_use</th>\n",
       "    </tr>\n",
       "    <tr>\n",
       "      <th>UTC_Datetime</th>\n",
       "      <th>UTC_Datetime</th>\n",
       "      <th></th>\n",
       "    </tr>\n",
       "  </thead>\n",
       "  <tbody>\n",
       "    <tr>\n",
       "      <th rowspan=\"3\" valign=\"top\">2013</th>\n",
       "      <th>3</th>\n",
       "      <td>4</td>\n",
       "    </tr>\n",
       "    <tr>\n",
       "      <th>11</th>\n",
       "      <td>4</td>\n",
       "    </tr>\n",
       "    <tr>\n",
       "      <th>12</th>\n",
       "      <td>80</td>\n",
       "    </tr>\n",
       "    <tr>\n",
       "      <th>2014</th>\n",
       "      <th>5</th>\n",
       "      <td>708</td>\n",
       "    </tr>\n",
       "    <tr>\n",
       "      <th>2015</th>\n",
       "      <th>1</th>\n",
       "      <td>64</td>\n",
       "    </tr>\n",
       "    <tr>\n",
       "      <th>2016</th>\n",
       "      <th>11</th>\n",
       "      <td>340</td>\n",
       "    </tr>\n",
       "    <tr>\n",
       "      <th rowspan=\"5\" valign=\"top\">2017</th>\n",
       "      <th>6</th>\n",
       "      <td>268</td>\n",
       "    </tr>\n",
       "    <tr>\n",
       "      <th>8</th>\n",
       "      <td>344</td>\n",
       "    </tr>\n",
       "    <tr>\n",
       "      <th>9</th>\n",
       "      <td>8</td>\n",
       "    </tr>\n",
       "    <tr>\n",
       "      <th>10</th>\n",
       "      <td>96</td>\n",
       "    </tr>\n",
       "    <tr>\n",
       "      <th>12</th>\n",
       "      <td>384</td>\n",
       "    </tr>\n",
       "  </tbody>\n",
       "</table>\n",
       "</div>"
      ],
      "text/plain": [
       "                           255_elec_use\n",
       "UTC_Datetime UTC_Datetime              \n",
       "2013         3                        4\n",
       "             11                       4\n",
       "             12                      80\n",
       "2014         5                      708\n",
       "2015         1                       64\n",
       "2016         11                     340\n",
       "2017         6                      268\n",
       "             8                      344\n",
       "             9                        8\n",
       "             10                      96\n",
       "             12                     384"
      ]
     },
     "execution_count": 35,
     "metadata": {},
     "output_type": "execute_result"
    }
   ],
   "source": [
    "# counting missing electricity points\n",
    "bldg_data_0 = bldg_data[bldg_data['255_elec_use']==0]\n",
    "bldg_data_0.groupby([bldg_data_0.index.year,bldg_data_0.index.month]).agg('count').head(100)\n",
    "# lots of missing data in 2017, this may help explain why R2 dropped when used on 2017 data"
   ]
  },
  {
   "cell_type": "code",
   "execution_count": 41,
   "metadata": {},
   "outputs": [
    {
     "data": {
      "text/plain": [
       "255_elec_use    2300\n",
       "dtype: int64"
      ]
     },
     "execution_count": 41,
     "metadata": {},
     "output_type": "execute_result"
    }
   ],
   "source": [
    "bldg_data_0.groupby([bldg_data_0.index.month]).agg('count').head(12)"
   ]
  },
  {
   "cell_type": "code",
   "execution_count": 36,
   "metadata": {
    "collapsed": true
   },
   "outputs": [],
   "source": [
    "# I believe part of my issue may be caused by a lack of data integrity on both the weather and electricity usage datasets. \n",
    "# that's possibly why my R2 scored dropped between KFolds and the final test\n",
    "# perhaps separate models for each month would be a better way of accounting for seasonality?"
   ]
  },
  {
   "cell_type": "code",
   "execution_count": 37,
   "metadata": {
    "collapsed": true
   },
   "outputs": [],
   "source": [
    "# Would it be reasonable to try and create a model to predict the HDD & CDD for 2018 then use those along with the known\n",
    "# Sunlight and Workday features for 2018 as a feature set for 2018 to make forward predictions?\n",
    "# Any better suggestions?"
   ]
  },
  {
   "cell_type": "markdown",
   "metadata": {},
   "source": [
    "##### In the future, I'd like to try ensembling this model with a Random Forests Model"
   ]
  },
  {
   "cell_type": "markdown",
   "metadata": {},
   "source": [
    "from sklearn.ensemble import RandomForestRegressor\n",
    "rfreg = RandomForestRegressor()\n",
    "rfreg"
   ]
  },
  {
   "cell_type": "markdown",
   "metadata": {},
   "source": [
    "##### list of values to try for n_estimators\n",
    "estimator_range = range(10, 310, 10)\n",
    "\n",
    "##### list to store the average RMSE for each value of n_estimators\n",
    "RMSE_scores = []\n",
    "\n",
    "##### use 5-fold cross-validation with each value of n_estimators (WARNING: SLOW!)\n",
    "for estimator in estimator_range:\n",
    "    rfreg = RandomForestRegressor(n_estimators=estimator, random_state=1)\n",
    "    MSE_scores = cross_val_score(rfreg, X, y, cv=5, scoring='mean_squared_error')\n",
    "    RMSE_scores.append(np.mean(np.sqrt(-MSE_scores)))"
   ]
  },
  {
   "cell_type": "markdown",
   "metadata": {},
   "source": [
    "##### plot n_estimators (x-axis) versus RMSE (y-axis)\n",
    "plt.plot(estimator_range, RMSE_scores)\n",
    "plt.xlabel('n_estimators')\n",
    "plt.ylabel('RMSE (lower is better)')"
   ]
  },
  {
   "cell_type": "markdown",
   "metadata": {},
   "source": [
    "rfreg = RandomForestRegressor(n_estimators=150, max_features=8, oob_score=True, random_state=1)\n",
    "rfreg.fit(X, y)"
   ]
  },
  {
   "cell_type": "markdown",
   "metadata": {},
   "source": [
    "##### compute feature importances\n",
    "pd.DataFrame({'feature':feature_cols, 'importance':rfreg.feature_importances_}).sort('importance')"
   ]
  }
 ],
 "metadata": {
  "kernelspec": {
   "display_name": "Python 3",
   "language": "python",
   "name": "python3"
  },
  "language_info": {
   "codemirror_mode": {
    "name": "ipython",
    "version": 3
   },
   "file_extension": ".py",
   "mimetype": "text/x-python",
   "name": "python",
   "nbconvert_exporter": "python",
   "pygments_lexer": "ipython3",
   "version": "3.6.3"
  }
 },
 "nbformat": 4,
 "nbformat_minor": 2
}
