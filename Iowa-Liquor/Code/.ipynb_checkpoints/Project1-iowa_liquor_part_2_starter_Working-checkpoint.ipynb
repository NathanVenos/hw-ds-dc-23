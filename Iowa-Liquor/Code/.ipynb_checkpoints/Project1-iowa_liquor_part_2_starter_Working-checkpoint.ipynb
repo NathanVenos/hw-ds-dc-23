{
 "cells": [
  {
   "cell_type": "markdown",
   "metadata": {},
   "source": []
  },
  {
   "cell_type": "markdown",
   "metadata": {},
   "source": [
    "# Project 1 - Iowa Liquor \n",
    "\n",
    "You are a data scientist in residence at the Iowa State tax board. The Iowa State legislature is considering changes in the liquor tax rates and wants a report of current liquor sales by county and projections for the rest of the year. \n",
    "\n",
    "Your task is as follows:\n",
    "\n",
    "* Calculate the yearly liquor sales for each store using the provided data. You can add up the transactions for each year, and store sales in 2015 specifically will be used later as your target variable.\n",
    "* Use the data from 2015 to make a linear model using as many variables as you find useful to predict the yearly sales of all stores. You must use the sales from Jan to March as one of your variables.\n",
    "* Use your model for 2015 to estimate total sales in 2016, extrapolating from the sales so far for Jan-March of 2016.\n",
    "* Report your findings, including any projected increase or decrease in total sales (over the entire state) for the tax committee of the Iowa legislature.\n",
    "* Use cross-validation to check how your model predicts to held out data compared to the model metrics on the full dataset.\n",
    "* Fit your model(s) using one or both of the regularization tactics covered. Explain whether the regularized or the non-regularized model performed better and what the selected regression(s) are doing.\n",
    "\n",
    "\n",
    "\n",
    "# Part 2\n",
    "\n",
    "### Feature Engineering, Model Building, and Tuning\n",
    "\n",
    "In Part 2 of this two-part project, you will use the insights gained from your Exploratory Data Analysis (EDA) to build a linear regression model predicting end-of-year total sales using Q1 data. You will use 2015 data to train and tune your model, then make final predictions using Q1 2016 data to make your best estimates for end of year 2016!\n",
    "\n",
    "### Requirements:\n",
    "\n",
    "\n",
    "**Mine the data**\n",
    "- Create necessary derived columns from the data\n",
    "- Format, clean, slice, and combine the data in Python\n",
    "\n",
    "**Build a data model**\n",
    "- Complete linear regressions using scikit-learn or statsmodels and interpret your findings\n",
    "- Calculate and plot predicted probabilities and/or present tables of results\n",
    "- Describe the bias-variance tradeoff of your model and errors metrics\n",
    "- Evaluate model fit by using loss functions, including mean absolute error, mean squared error, and root mean squared error, or r-squared\n",
    "\n",
    "**Present the results**\n",
    "- Create a Jupyter Notebook hosted on GitHub that provides a dataset overview with visualizations, statistical analysis, data cleaning methodologies, and models\n",
    "- Create a write-up on the interpretation of findings including an executive summary with conclusions and next steps\n",
    "\n",
    "***Bonus!:***\n",
    "- Handle outliers, use regularization (Ridge & Lasso regressions)\n",
    "- Brainstorm ways to improve your analysis; for example:\n",
    " - Add additional breakdowns and models, e.g. by month.\n",
    " - Recommend additional data that might improve your models\n",
    " - Can you think of other uses for the dataset? E.g healthcare / disease estimates"
   ]
  },
  {
   "cell_type": "code",
   "execution_count": 204,
   "metadata": {},
   "outputs": [
    {
     "data": {
      "text/plain": [
       "True"
      ]
     },
     "execution_count": 204,
     "metadata": {},
     "output_type": "execute_result"
    }
   ],
   "source": [
    "import os\n",
    "\n",
    "os.path.isfile('../Assets/Iowa_Liquor_sample.csv') "
   ]
  },
  {
   "cell_type": "code",
   "execution_count": 205,
   "metadata": {},
   "outputs": [],
   "source": [
    "import pandas as pd\n",
    "import matplotlib.pyplot as plt\n",
    "import numpy as np\n",
    "import seaborn as sns\n",
    "from scipy import stats\n",
    "from sklearn.model_selection import train_test_split\n",
    "from sklearn.cross_validation import KFold\n",
    "from sklearn.linear_model import LinearRegression\n",
    "from sklearn import metrics\n",
    "\n",
    "%matplotlib inline"
   ]
  },
  {
   "cell_type": "markdown",
   "metadata": {},
   "source": [
    "## Import and Clean data:\n",
    "\n",
    "This time, we've cleaned the data set and column names for you; however we have not touched missing values."
   ]
  },
  {
   "cell_type": "code",
   "execution_count": 206,
   "metadata": {
    "collapsed": true
   },
   "outputs": [],
   "source": [
    "# Import, convert 'Date' col to datetime\n",
    "liquor=pd.read_csv('../Assets/Iowa_Liquor_sample.csv',parse_dates=['Date'],infer_datetime_format=True)"
   ]
  },
  {
   "cell_type": "code",
   "execution_count": 207,
   "metadata": {
    "collapsed": true
   },
   "outputs": [],
   "source": [
    "# format column names\n",
    "import re\n",
    "\n",
    "liquor.columns = [re.sub(\"[^a-zA-Z]+\", \"\", x) for x in liquor.columns]"
   ]
  },
  {
   "cell_type": "code",
   "execution_count": 208,
   "metadata": {
    "collapsed": true
   },
   "outputs": [],
   "source": [
    "# remove '$' in values and convert to numeric\n",
    "adjust_cols = ['StateBottleCost','StateBottleRetail','SaleDollars']\n",
    "\n",
    "for col in adjust_cols:\n",
    "    liquor[col] = pd.to_numeric(liquor[col].str.replace('$',''),errors='coerce')"
   ]
  },
  {
   "cell_type": "markdown",
   "metadata": {},
   "source": [
    "### Null Values\n",
    "\n",
    "Handle null values as you see fit"
   ]
  },
  {
   "cell_type": "code",
   "execution_count": 209,
   "metadata": {
    "collapsed": true
   },
   "outputs": [],
   "source": [
    "# liquor = liquor.dropna()\n",
    "# liquor.isnull().sum()"
   ]
  },
  {
   "cell_type": "code",
   "execution_count": 210,
   "metadata": {
    "collapsed": true
   },
   "outputs": [],
   "source": [
    "liquor.CountyNumber.fillna(0.0,inplace=True)\n",
    "liquor.County.fillna('UNAVAILABLE',inplace=True)\n",
    "liquor.Category.fillna(1000000.0,inplace=True)\n",
    "liquor.CategoryName.fillna('UNASSIGNED',inplace=True)"
   ]
  },
  {
   "cell_type": "markdown",
   "metadata": {
    "collapsed": true
   },
   "source": [
    "## Split Data to Create a features and targets\n",
    "\n",
    "The goal of this project is to predict **total year-end 2015 sales for each store** using **first-quarter 2015 data**\n",
    "\n",
    "Our data is currently formatted as total purchases for each product per day per store for every day in the year. We will need to group our data by store when we perform our aggregations.\n",
    "\n",
    "In order to accomplish our goal, we need two sets of data:\n",
    "* Total full-year  sales for each store in 2015 (our target / y)\n",
    "* Data from Q1 2015 (will become our features / X)\n",
    "\n",
    "Create two dataframes, 'liquor2015_fy' and 'liquor2015_q1'\n",
    "\n",
    "'liquor2015_fy' should contain only store numbers and the full year sales for that store\n",
    "\n",
    "'liquor2015_q1' should contain all your features, but only for Q1\n"
   ]
  },
  {
   "cell_type": "code",
   "execution_count": 211,
   "metadata": {
    "collapsed": true
   },
   "outputs": [],
   "source": [
    "# Filter to only 2015:\n",
    "# hint: liquor.Date.dt._______\n",
    "\n",
    "liquor2015 = liquor[liquor.Date.dt.year == 2015]"
   ]
  },
  {
   "cell_type": "code",
   "execution_count": 212,
   "metadata": {},
   "outputs": [
    {
     "data": {
      "text/html": [
       "<div>\n",
       "<style>\n",
       "    .dataframe thead tr:only-child th {\n",
       "        text-align: right;\n",
       "    }\n",
       "\n",
       "    .dataframe thead th {\n",
       "        text-align: left;\n",
       "    }\n",
       "\n",
       "    .dataframe tbody tr th {\n",
       "        vertical-align: top;\n",
       "    }\n",
       "</style>\n",
       "<table border=\"1\" class=\"dataframe\">\n",
       "  <thead>\n",
       "    <tr style=\"text-align: right;\">\n",
       "      <th></th>\n",
       "      <th>Date</th>\n",
       "      <th>StoreNumber</th>\n",
       "      <th>City</th>\n",
       "      <th>ZipCode</th>\n",
       "      <th>CountyNumber</th>\n",
       "      <th>County</th>\n",
       "      <th>Category</th>\n",
       "      <th>CategoryName</th>\n",
       "      <th>VendorNumber</th>\n",
       "      <th>ItemNumber</th>\n",
       "      <th>ItemDescription</th>\n",
       "      <th>BottleVolumeml</th>\n",
       "      <th>StateBottleCost</th>\n",
       "      <th>StateBottleRetail</th>\n",
       "      <th>BottlesSold</th>\n",
       "      <th>SaleDollars</th>\n",
       "      <th>VolumeSoldLiters</th>\n",
       "      <th>VolumeSoldGallons</th>\n",
       "    </tr>\n",
       "  </thead>\n",
       "  <tbody>\n",
       "    <tr>\n",
       "      <th>0</th>\n",
       "      <td>2015-11-04</td>\n",
       "      <td>3717</td>\n",
       "      <td>SUMNER</td>\n",
       "      <td>50674</td>\n",
       "      <td>9.0</td>\n",
       "      <td>Bremer</td>\n",
       "      <td>1051100.0</td>\n",
       "      <td>APRICOT BRANDIES</td>\n",
       "      <td>55</td>\n",
       "      <td>54436</td>\n",
       "      <td>Mr. Boston Apricot Brandy</td>\n",
       "      <td>750</td>\n",
       "      <td>4.50</td>\n",
       "      <td>6.75</td>\n",
       "      <td>12</td>\n",
       "      <td>81.00</td>\n",
       "      <td>9.00</td>\n",
       "      <td>2.38</td>\n",
       "    </tr>\n",
       "    <tr>\n",
       "      <th>4</th>\n",
       "      <td>2015-08-18</td>\n",
       "      <td>3654</td>\n",
       "      <td>BELMOND</td>\n",
       "      <td>50421</td>\n",
       "      <td>99.0</td>\n",
       "      <td>Wright</td>\n",
       "      <td>1031080.0</td>\n",
       "      <td>VODKA 80 PROOF</td>\n",
       "      <td>297</td>\n",
       "      <td>35918</td>\n",
       "      <td>Five O'clock Vodka</td>\n",
       "      <td>1750</td>\n",
       "      <td>7.20</td>\n",
       "      <td>10.80</td>\n",
       "      <td>12</td>\n",
       "      <td>129.60</td>\n",
       "      <td>21.00</td>\n",
       "      <td>5.55</td>\n",
       "    </tr>\n",
       "    <tr>\n",
       "      <th>5</th>\n",
       "      <td>2015-04-20</td>\n",
       "      <td>2569</td>\n",
       "      <td>CEDAR RAPIDS</td>\n",
       "      <td>52402</td>\n",
       "      <td>57.0</td>\n",
       "      <td>Linn</td>\n",
       "      <td>1041100.0</td>\n",
       "      <td>AMERICAN DRY GINS</td>\n",
       "      <td>205</td>\n",
       "      <td>31473</td>\n",
       "      <td>New Amsterdam Gin</td>\n",
       "      <td>1750</td>\n",
       "      <td>13.32</td>\n",
       "      <td>19.98</td>\n",
       "      <td>6</td>\n",
       "      <td>119.88</td>\n",
       "      <td>10.50</td>\n",
       "      <td>2.77</td>\n",
       "    </tr>\n",
       "    <tr>\n",
       "      <th>6</th>\n",
       "      <td>2015-08-05</td>\n",
       "      <td>2596</td>\n",
       "      <td>OTTUMWA</td>\n",
       "      <td>52501</td>\n",
       "      <td>90.0</td>\n",
       "      <td>Wapello</td>\n",
       "      <td>1051010.0</td>\n",
       "      <td>AMERICAN GRAPE BRANDIES</td>\n",
       "      <td>85</td>\n",
       "      <td>52806</td>\n",
       "      <td>Korbel Brandy</td>\n",
       "      <td>750</td>\n",
       "      <td>6.66</td>\n",
       "      <td>9.99</td>\n",
       "      <td>3</td>\n",
       "      <td>29.97</td>\n",
       "      <td>2.25</td>\n",
       "      <td>0.59</td>\n",
       "    </tr>\n",
       "    <tr>\n",
       "      <th>7</th>\n",
       "      <td>2015-06-25</td>\n",
       "      <td>3456</td>\n",
       "      <td>CLEAR LAKE</td>\n",
       "      <td>50428</td>\n",
       "      <td>17.0</td>\n",
       "      <td>Cerro Gordo</td>\n",
       "      <td>1012100.0</td>\n",
       "      <td>CANADIAN WHISKIES</td>\n",
       "      <td>65</td>\n",
       "      <td>10628</td>\n",
       "      <td>Canadian Club Whisky</td>\n",
       "      <td>1750</td>\n",
       "      <td>15.75</td>\n",
       "      <td>23.63</td>\n",
       "      <td>2</td>\n",
       "      <td>47.26</td>\n",
       "      <td>3.50</td>\n",
       "      <td>0.92</td>\n",
       "    </tr>\n",
       "  </tbody>\n",
       "</table>\n",
       "</div>"
      ],
      "text/plain": [
       "        Date  StoreNumber          City ZipCode  CountyNumber       County  \\\n",
       "0 2015-11-04         3717        SUMNER   50674           9.0       Bremer   \n",
       "4 2015-08-18         3654       BELMOND   50421          99.0       Wright   \n",
       "5 2015-04-20         2569  CEDAR RAPIDS   52402          57.0         Linn   \n",
       "6 2015-08-05         2596       OTTUMWA   52501          90.0      Wapello   \n",
       "7 2015-06-25         3456    CLEAR LAKE   50428          17.0  Cerro Gordo   \n",
       "\n",
       "    Category             CategoryName  VendorNumber  ItemNumber  \\\n",
       "0  1051100.0         APRICOT BRANDIES            55       54436   \n",
       "4  1031080.0           VODKA 80 PROOF           297       35918   \n",
       "5  1041100.0        AMERICAN DRY GINS           205       31473   \n",
       "6  1051010.0  AMERICAN GRAPE BRANDIES            85       52806   \n",
       "7  1012100.0        CANADIAN WHISKIES            65       10628   \n",
       "\n",
       "             ItemDescription  BottleVolumeml  StateBottleCost  \\\n",
       "0  Mr. Boston Apricot Brandy             750             4.50   \n",
       "4         Five O'clock Vodka            1750             7.20   \n",
       "5          New Amsterdam Gin            1750            13.32   \n",
       "6              Korbel Brandy             750             6.66   \n",
       "7       Canadian Club Whisky            1750            15.75   \n",
       "\n",
       "   StateBottleRetail  BottlesSold  SaleDollars  VolumeSoldLiters  \\\n",
       "0               6.75           12        81.00              9.00   \n",
       "4              10.80           12       129.60             21.00   \n",
       "5              19.98            6       119.88             10.50   \n",
       "6               9.99            3        29.97              2.25   \n",
       "7              23.63            2        47.26              3.50   \n",
       "\n",
       "   VolumeSoldGallons  \n",
       "0               2.38  \n",
       "4               5.55  \n",
       "5               2.77  \n",
       "6               0.59  \n",
       "7               0.92  "
      ]
     },
     "execution_count": 212,
     "metadata": {},
     "output_type": "execute_result"
    }
   ],
   "source": [
    "liquor2015.head()"
   ]
  },
  {
   "cell_type": "code",
   "execution_count": 213,
   "metadata": {},
   "outputs": [
    {
     "data": {
      "text/html": [
       "<div>\n",
       "<style>\n",
       "    .dataframe thead tr:only-child th {\n",
       "        text-align: right;\n",
       "    }\n",
       "\n",
       "    .dataframe thead th {\n",
       "        text-align: left;\n",
       "    }\n",
       "\n",
       "    .dataframe tbody tr th {\n",
       "        vertical-align: top;\n",
       "    }\n",
       "</style>\n",
       "<table border=\"1\" class=\"dataframe\">\n",
       "  <thead>\n",
       "    <tr style=\"text-align: right;\">\n",
       "      <th></th>\n",
       "      <th>Total_Sales</th>\n",
       "    </tr>\n",
       "    <tr>\n",
       "      <th>StoreNumber</th>\n",
       "      <th></th>\n",
       "    </tr>\n",
       "  </thead>\n",
       "  <tbody>\n",
       "    <tr>\n",
       "      <th>9001</th>\n",
       "      <td>28208.52</td>\n",
       "    </tr>\n",
       "    <tr>\n",
       "      <th>9002</th>\n",
       "      <td>37700.52</td>\n",
       "    </tr>\n",
       "    <tr>\n",
       "      <th>9010</th>\n",
       "      <td>5757.96</td>\n",
       "    </tr>\n",
       "    <tr>\n",
       "      <th>9013</th>\n",
       "      <td>2217.48</td>\n",
       "    </tr>\n",
       "    <tr>\n",
       "      <th>9018</th>\n",
       "      <td>6435.00</td>\n",
       "    </tr>\n",
       "  </tbody>\n",
       "</table>\n",
       "</div>"
      ],
      "text/plain": [
       "             Total_Sales\n",
       "StoreNumber             \n",
       "9001            28208.52\n",
       "9002            37700.52\n",
       "9010             5757.96\n",
       "9013             2217.48\n",
       "9018             6435.00"
      ]
     },
     "execution_count": 213,
     "metadata": {},
     "output_type": "execute_result"
    }
   ],
   "source": [
    "# Calculate the sum of sales for each store in 2015 by grouping the full year data\n",
    "# hint: what columns do you need? what is your aggregating function? \n",
    "liquor2015_fy = liquor2015.SaleDollars.groupby(liquor.StoreNumber).agg(['sum'])\n",
    "liquor2015_fy.columns = ['Total_Sales']\n",
    "liquor2015_fy.tail()"
   ]
  },
  {
   "cell_type": "code",
   "execution_count": 214,
   "metadata": {
    "collapsed": true
   },
   "outputs": [],
   "source": [
    "# Filter to just Q1 data: \n",
    "# hint: df[df.Date.dt.___ == __]"
   ]
  },
  {
   "cell_type": "code",
   "execution_count": 215,
   "metadata": {
    "collapsed": true
   },
   "outputs": [],
   "source": [
    "liquor2015_q1 = liquor2015[liquor2015.Date.dt.quarter == 1]"
   ]
  },
  {
   "cell_type": "markdown",
   "metadata": {},
   "source": [
    "# Feature Engineering\n",
    "\n",
    "Using the insight your gained into your dataset while perfomorming *exploratory data analysis* in Part 1 of the project, aggregate the liquor2015_q1 data frame to create cross-sectional features from our longitudinal data.\n",
    "\n",
    "\n",
    "[Aggregation functions in pandas](https://pandas.pydata.org/pandas-docs/stable/generated/pandas.core.groupby.DataFrameGroupBy.agg.html)\n",
    "\n",
    "In addition to aggregation, you may chose to create columns to more advanced measures of the data, such as sales for a particular product or category, measures of profitbility, daily or weekly sales statistics, etc.\n",
    "\n",
    "Combine your aggregations and other engineered features into a dataframe called 'liquor2015_q1_features'\n",
    "\n",
    "*At a minimum, you will need to aggreate your features by Store in order to procede*\n",
    "\n"
   ]
  },
  {
   "cell_type": "code",
   "execution_count": 216,
   "metadata": {
    "collapsed": true
   },
   "outputs": [
    {
     "data": {
      "text/html": [
       "<div>\n",
       "<style>\n",
       "    .dataframe thead tr:only-child th {\n",
       "        text-align: right;\n",
       "    }\n",
       "\n",
       "    .dataframe thead th {\n",
       "        text-align: left;\n",
       "    }\n",
       "\n",
       "    .dataframe tbody tr th {\n",
       "        vertical-align: top;\n",
       "    }\n",
       "</style>\n",
       "<table border=\"1\" class=\"dataframe\">\n",
       "  <thead>\n",
       "    <tr style=\"text-align: right;\">\n",
       "      <th></th>\n",
       "      <th>Profit</th>\n",
       "    </tr>\n",
       "    <tr>\n",
       "      <th>StoreNumber</th>\n",
       "      <th></th>\n",
       "    </tr>\n",
       "  </thead>\n",
       "  <tbody>\n",
       "    <tr>\n",
       "      <th>5119</th>\n",
       "      <td>37.50</td>\n",
       "    </tr>\n",
       "    <tr>\n",
       "      <th>5128</th>\n",
       "      <td>159.08</td>\n",
       "    </tr>\n",
       "    <tr>\n",
       "      <th>9001</th>\n",
       "      <td>780.48</td>\n",
       "    </tr>\n",
       "    <tr>\n",
       "      <th>9002</th>\n",
       "      <td>1622.34</td>\n",
       "    </tr>\n",
       "    <tr>\n",
       "      <th>9010</th>\n",
       "      <td>1287.84</td>\n",
       "    </tr>\n",
       "  </tbody>\n",
       "</table>\n",
       "</div>"
      ],
      "text/plain": [
       "              Profit\n",
       "StoreNumber         \n",
       "5119           37.50\n",
       "5128          159.08\n",
       "9001          780.48\n",
       "9002         1622.34\n",
       "9010         1287.84"
      ]
     },
     "execution_count": 216,
     "metadata": {},
     "output_type": "execute_result"
    }
   ],
   "source": [
    "liquor2015_q1.Profit = (liquor2015_q1.StateBottleRetail - liquor2015_q1.StateBottleCost) * liquor2015_q1.BottlesSold\n",
    "liquor2015_q1_profit = liquor2015_q1.Profit.groupby(liquor2015_q1.StoreNumber).agg(['sum'])\n",
    "liquor2015_q1_profit.columns = ['Profit']\n",
    "liquor2015_q1_profit.tail()"
   ]
  },
  {
   "cell_type": "code",
   "execution_count": 217,
   "metadata": {
    "collapsed": true
   },
   "outputs": [
    {
     "data": {
      "text/html": [
       "<div>\n",
       "<style>\n",
       "    .dataframe thead tr:only-child th {\n",
       "        text-align: right;\n",
       "    }\n",
       "\n",
       "    .dataframe thead th {\n",
       "        text-align: left;\n",
       "    }\n",
       "\n",
       "    .dataframe tbody tr th {\n",
       "        vertical-align: top;\n",
       "    }\n",
       "</style>\n",
       "<table border=\"1\" class=\"dataframe\">\n",
       "  <thead>\n",
       "    <tr style=\"text-align: right;\">\n",
       "      <th></th>\n",
       "      <th>Whisky</th>\n",
       "    </tr>\n",
       "    <tr>\n",
       "      <th>StoreNumber</th>\n",
       "      <th></th>\n",
       "    </tr>\n",
       "  </thead>\n",
       "  <tbody>\n",
       "    <tr>\n",
       "      <th>5119</th>\n",
       "      <td>0.00</td>\n",
       "    </tr>\n",
       "    <tr>\n",
       "      <th>5128</th>\n",
       "      <td>333.00</td>\n",
       "    </tr>\n",
       "    <tr>\n",
       "      <th>9001</th>\n",
       "      <td>1739.40</td>\n",
       "    </tr>\n",
       "    <tr>\n",
       "      <th>9002</th>\n",
       "      <td>3769.68</td>\n",
       "    </tr>\n",
       "    <tr>\n",
       "      <th>9010</th>\n",
       "      <td>2600.16</td>\n",
       "    </tr>\n",
       "  </tbody>\n",
       "</table>\n",
       "</div>"
      ],
      "text/plain": [
       "              Whisky\n",
       "StoreNumber         \n",
       "5119            0.00\n",
       "5128          333.00\n",
       "9001         1739.40\n",
       "9002         3769.68\n",
       "9010         2600.16"
      ]
     },
     "execution_count": 217,
     "metadata": {},
     "output_type": "execute_result"
    }
   ],
   "source": [
    "liquor2015_q1.Whisky = liquor2015_q1.CategoryName.str.contains('WHISK') * liquor2015_q1.SaleDollars\n",
    "liquor2015_q1_whisky = liquor2015_q1.Whisky.groupby(liquor2015_q1.StoreNumber).agg(['sum'])\n",
    "liquor2015_q1_whisky.columns = ['Whisky']\n",
    "liquor2015_q1_whisky.tail()"
   ]
  },
  {
   "cell_type": "code",
   "execution_count": 218,
   "metadata": {
    "collapsed": true
   },
   "outputs": [
    {
     "data": {
      "text/html": [
       "<div>\n",
       "<style>\n",
       "    .dataframe thead tr:only-child th {\n",
       "        text-align: right;\n",
       "    }\n",
       "\n",
       "    .dataframe thead th {\n",
       "        text-align: left;\n",
       "    }\n",
       "\n",
       "    .dataframe tbody tr th {\n",
       "        vertical-align: top;\n",
       "    }\n",
       "</style>\n",
       "<table border=\"1\" class=\"dataframe\">\n",
       "  <thead>\n",
       "    <tr style=\"text-align: right;\">\n",
       "      <th></th>\n",
       "      <th>Volume</th>\n",
       "    </tr>\n",
       "    <tr>\n",
       "      <th>StoreNumber</th>\n",
       "      <th></th>\n",
       "    </tr>\n",
       "  </thead>\n",
       "  <tbody>\n",
       "    <tr>\n",
       "      <th>5119</th>\n",
       "      <td>4.5</td>\n",
       "    </tr>\n",
       "    <tr>\n",
       "      <th>5128</th>\n",
       "      <td>24.0</td>\n",
       "    </tr>\n",
       "    <tr>\n",
       "      <th>9001</th>\n",
       "      <td>58.5</td>\n",
       "    </tr>\n",
       "    <tr>\n",
       "      <th>9002</th>\n",
       "      <td>135.0</td>\n",
       "    </tr>\n",
       "    <tr>\n",
       "      <th>9010</th>\n",
       "      <td>135.0</td>\n",
       "    </tr>\n",
       "  </tbody>\n",
       "</table>\n",
       "</div>"
      ],
      "text/plain": [
       "             Volume\n",
       "StoreNumber        \n",
       "5119            4.5\n",
       "5128           24.0\n",
       "9001           58.5\n",
       "9002          135.0\n",
       "9010          135.0"
      ]
     },
     "execution_count": 218,
     "metadata": {},
     "output_type": "execute_result"
    }
   ],
   "source": [
    "liquor2015_q1_volume = liquor2015_q1.VolumeSoldLiters.groupby(liquor2015_q1.StoreNumber).agg(['sum'])\n",
    "liquor2015_q1_volume.columns = ['Volume']\n",
    "liquor2015_q1_volume.tail()"
   ]
  },
  {
   "cell_type": "code",
   "execution_count": 219,
   "metadata": {
    "collapsed": true
   },
   "outputs": [
    {
     "data": {
      "text/html": [
       "<div>\n",
       "<style>\n",
       "    .dataframe thead tr:only-child th {\n",
       "        text-align: right;\n",
       "    }\n",
       "\n",
       "    .dataframe thead th {\n",
       "        text-align: left;\n",
       "    }\n",
       "\n",
       "    .dataframe tbody tr th {\n",
       "        vertical-align: top;\n",
       "    }\n",
       "</style>\n",
       "<table border=\"1\" class=\"dataframe\">\n",
       "  <thead>\n",
       "    <tr style=\"text-align: right;\">\n",
       "      <th></th>\n",
       "      <th>Days</th>\n",
       "    </tr>\n",
       "    <tr>\n",
       "      <th>StoreNumber</th>\n",
       "      <th></th>\n",
       "    </tr>\n",
       "  </thead>\n",
       "  <tbody>\n",
       "    <tr>\n",
       "      <th>5119</th>\n",
       "      <td>1</td>\n",
       "    </tr>\n",
       "    <tr>\n",
       "      <th>5128</th>\n",
       "      <td>1</td>\n",
       "    </tr>\n",
       "    <tr>\n",
       "      <th>9001</th>\n",
       "      <td>3</td>\n",
       "    </tr>\n",
       "    <tr>\n",
       "      <th>9002</th>\n",
       "      <td>6</td>\n",
       "    </tr>\n",
       "    <tr>\n",
       "      <th>9010</th>\n",
       "      <td>3</td>\n",
       "    </tr>\n",
       "  </tbody>\n",
       "</table>\n",
       "</div>"
      ],
      "text/plain": [
       "             Days\n",
       "StoreNumber      \n",
       "5119            1\n",
       "5128            1\n",
       "9001            3\n",
       "9002            6\n",
       "9010            3"
      ]
     },
     "execution_count": 219,
     "metadata": {},
     "output_type": "execute_result"
    }
   ],
   "source": [
    "liquor2015_q1_days = pd.DataFrame.from_dict(liquor2015_q1.Date.groupby(liquor2015_q1.StoreNumber).unique().apply(lambda x: len(x)))\n",
    "liquor2015_q1_days.columns = ['Days']\n",
    "liquor2015_q1_days.tail()\n"
   ]
  },
  {
   "cell_type": "code",
   "execution_count": 220,
   "metadata": {
    "collapsed": true
   },
   "outputs": [],
   "source": [
    "# can create more complicated features that are some combination of other data points"
   ]
  },
  {
   "cell_type": "code",
   "execution_count": 221,
   "metadata": {},
   "outputs": [
    {
     "data": {
      "text/html": [
       "<div>\n",
       "<style>\n",
       "    .dataframe thead tr:only-child th {\n",
       "        text-align: right;\n",
       "    }\n",
       "\n",
       "    .dataframe thead th {\n",
       "        text-align: left;\n",
       "    }\n",
       "\n",
       "    .dataframe tbody tr th {\n",
       "        vertical-align: top;\n",
       "    }\n",
       "</style>\n",
       "<table border=\"1\" class=\"dataframe\">\n",
       "  <thead>\n",
       "    <tr style=\"text-align: right;\">\n",
       "      <th></th>\n",
       "      <th>Profit</th>\n",
       "      <th>Whisky</th>\n",
       "      <th>Volume</th>\n",
       "      <th>Days</th>\n",
       "    </tr>\n",
       "    <tr>\n",
       "      <th>StoreNumber</th>\n",
       "      <th></th>\n",
       "      <th></th>\n",
       "      <th></th>\n",
       "      <th></th>\n",
       "    </tr>\n",
       "  </thead>\n",
       "  <tbody>\n",
       "    <tr>\n",
       "      <th>2106</th>\n",
       "      <td>13108.37</td>\n",
       "      <td>10190.87</td>\n",
       "      <td>2526.10</td>\n",
       "      <td>12</td>\n",
       "    </tr>\n",
       "    <tr>\n",
       "      <th>2113</th>\n",
       "      <td>944.72</td>\n",
       "      <td>876.88</td>\n",
       "      <td>177.11</td>\n",
       "      <td>11</td>\n",
       "    </tr>\n",
       "    <tr>\n",
       "      <th>2130</th>\n",
       "      <td>8108.68</td>\n",
       "      <td>5836.23</td>\n",
       "      <td>1447.25</td>\n",
       "      <td>12</td>\n",
       "    </tr>\n",
       "    <tr>\n",
       "      <th>2152</th>\n",
       "      <td>668.60</td>\n",
       "      <td>1230.24</td>\n",
       "      <td>151.74</td>\n",
       "      <td>12</td>\n",
       "    </tr>\n",
       "    <tr>\n",
       "      <th>2178</th>\n",
       "      <td>1961.28</td>\n",
       "      <td>1940.23</td>\n",
       "      <td>409.81</td>\n",
       "      <td>12</td>\n",
       "    </tr>\n",
       "  </tbody>\n",
       "</table>\n",
       "</div>"
      ],
      "text/plain": [
       "               Profit    Whisky   Volume  Days\n",
       "StoreNumber                                   \n",
       "2106         13108.37  10190.87  2526.10    12\n",
       "2113           944.72    876.88   177.11    11\n",
       "2130          8108.68   5836.23  1447.25    12\n",
       "2152           668.60   1230.24   151.74    12\n",
       "2178          1961.28   1940.23   409.81    12"
      ]
     },
     "execution_count": 221,
     "metadata": {},
     "output_type": "execute_result"
    }
   ],
   "source": [
    "# Dataframe of your Q1 features\n",
    "liquor2015_q1_features = liquor2015_q1_profit.merge(liquor2015_q1_whisky,left_index=True,right_index=True)\\\n",
    ".merge(liquor2015_q1_volume,left_index=True,right_index=True)\\\n",
    ".merge(liquor2015_q1_days,left_index=True,right_index=True)\n",
    "liquor2015_q1_features.head()"
   ]
  },
  {
   "cell_type": "markdown",
   "metadata": {},
   "source": [
    "## Combine Q1 Features with Full Year Target\n",
    "\n",
    "Now that you've created a set of features using the Q1 data, we much combine it wil the full-year data so that our Xs (features) are matched up to their coresponding y's (targets).\n",
    "\n",
    "Pandas' 'merge' function allows us to combine two dataframes, using SQL-like joins.\n",
    "\n",
    "[Pandas Merge/Join Documentation](https://pandas.pydata.org/pandas-docs/stable/merging.html#database-style-dataframe-joining-merging)\n",
    "\n",
    "We will create a new dataframe, called 'liquor2015_combined' by merging our 'liquor2015_fy' and 'liquor2015_q1_features' dataframes on Store Number - giving us a dataframe which in each row has the Q1 features you've developed for each store, and the year-end total sales for that store.\n",
    "\n",
    "#### In pandas, merge can take two forms:\n",
    "\n",
    "pd.merge(left_dataframe,right_dataframe, \\*\\*args)\n",
    "\n",
    "*or*\n",
    "\n",
    "left_dataframe.merge(right_dataframe,\\*\\*args)\n",
    "\n",
    "Both of these return the merged dataframe. For arguments, you will need to chose which column(s) from your right and left dataframe you're merging on.\n",
    "\n",
    "Args:\n",
    "* left: your left-dataframe\n",
    "* right: your right-dataframe\n",
    "* on= : if your dataframes have a common column name that you're merging on, use this arg\n",
    "* left_on= / right_on= : if your dataframes do not have a common column name, you can specify the names\n",
    "* left_index= / right_index= : these are boolean (True/False) flags for whether to use the dataframe's index as the merging column.\n",
    "\n"
   ]
  },
  {
   "cell_type": "code",
   "execution_count": 222,
   "metadata": {
    "collapsed": true
   },
   "outputs": [],
   "source": [
    "liquor2015_combined = liquor2015_q1_features.merge(liquor2015_fy,left_index=True,right_index=True)"
   ]
  },
  {
   "cell_type": "code",
   "execution_count": 223,
   "metadata": {},
   "outputs": [
    {
     "data": {
      "text/html": [
       "<div>\n",
       "<style>\n",
       "    .dataframe thead tr:only-child th {\n",
       "        text-align: right;\n",
       "    }\n",
       "\n",
       "    .dataframe thead th {\n",
       "        text-align: left;\n",
       "    }\n",
       "\n",
       "    .dataframe tbody tr th {\n",
       "        vertical-align: top;\n",
       "    }\n",
       "</style>\n",
       "<table border=\"1\" class=\"dataframe\">\n",
       "  <thead>\n",
       "    <tr style=\"text-align: right;\">\n",
       "      <th></th>\n",
       "      <th>Profit</th>\n",
       "      <th>Whisky</th>\n",
       "      <th>Volume</th>\n",
       "      <th>Days</th>\n",
       "      <th>Total_Sales</th>\n",
       "    </tr>\n",
       "    <tr>\n",
       "      <th>StoreNumber</th>\n",
       "      <th></th>\n",
       "      <th></th>\n",
       "      <th></th>\n",
       "      <th></th>\n",
       "      <th></th>\n",
       "    </tr>\n",
       "  </thead>\n",
       "  <tbody>\n",
       "    <tr>\n",
       "      <th>2106</th>\n",
       "      <td>13108.37</td>\n",
       "      <td>10190.87</td>\n",
       "      <td>2526.10</td>\n",
       "      <td>12</td>\n",
       "      <td>146326.22</td>\n",
       "    </tr>\n",
       "    <tr>\n",
       "      <th>2113</th>\n",
       "      <td>944.72</td>\n",
       "      <td>876.88</td>\n",
       "      <td>177.11</td>\n",
       "      <td>11</td>\n",
       "      <td>9310.22</td>\n",
       "    </tr>\n",
       "    <tr>\n",
       "      <th>2130</th>\n",
       "      <td>8108.68</td>\n",
       "      <td>5836.23</td>\n",
       "      <td>1447.25</td>\n",
       "      <td>12</td>\n",
       "      <td>111871.43</td>\n",
       "    </tr>\n",
       "    <tr>\n",
       "      <th>2152</th>\n",
       "      <td>668.60</td>\n",
       "      <td>1230.24</td>\n",
       "      <td>151.74</td>\n",
       "      <td>12</td>\n",
       "      <td>7721.08</td>\n",
       "    </tr>\n",
       "    <tr>\n",
       "      <th>2178</th>\n",
       "      <td>1961.28</td>\n",
       "      <td>1940.23</td>\n",
       "      <td>409.81</td>\n",
       "      <td>12</td>\n",
       "      <td>24324.18</td>\n",
       "    </tr>\n",
       "  </tbody>\n",
       "</table>\n",
       "</div>"
      ],
      "text/plain": [
       "               Profit    Whisky   Volume  Days  Total_Sales\n",
       "StoreNumber                                                \n",
       "2106         13108.37  10190.87  2526.10    12    146326.22\n",
       "2113           944.72    876.88   177.11    11      9310.22\n",
       "2130          8108.68   5836.23  1447.25    12    111871.43\n",
       "2152           668.60   1230.24   151.74    12      7721.08\n",
       "2178          1961.28   1940.23   409.81    12     24324.18"
      ]
     },
     "execution_count": 223,
     "metadata": {},
     "output_type": "execute_result"
    }
   ],
   "source": [
    "liquor2015_combined.head()"
   ]
  },
  {
   "cell_type": "markdown",
   "metadata": {},
   "source": [
    "## Cross Validation\n",
    "\n",
    "As we build our model, we will use cross-validation techniques to help navigate the bias/variance tradeoff, with a goal of producing the best model which will generalize to new data. \n",
    "\n",
    "![crossval](../Assets/validation.png)"
   ]
  },
  {
   "cell_type": "markdown",
   "metadata": {},
   "source": [
    "### Step 1: Hold Out / Testing Data\n",
    "\n",
    "In order to evaluate our final model performance, we will seperate out a small amount of data which will will not touch while train and test our model (labeled in red as \"Testing Data\" in the image above). "
   ]
  },
  {
   "cell_type": "code",
   "execution_count": 224,
   "metadata": {
    "collapsed": true
   },
   "outputs": [],
   "source": [
    "from sklearn.model_selection import train_test_split"
   ]
  },
  {
   "cell_type": "code",
   "execution_count": 225,
   "metadata": {
    "collapsed": true
   },
   "outputs": [],
   "source": [
    "training_data,holdout = train_test_split(liquor2015_combined,shuffle=True,test_size=0.10,random_state=123)"
   ]
  },
  {
   "cell_type": "markdown",
   "metadata": {},
   "source": [
    "### Step 2: Kfolds\n",
    "\n",
    "With our holdout set removed, we can set up **Kfolds** cross validation"
   ]
  },
  {
   "cell_type": "code",
   "execution_count": 226,
   "metadata": {
    "collapsed": true
   },
   "outputs": [],
   "source": [
    "from sklearn.cross_validation import KFold"
   ]
  },
  {
   "cell_type": "code",
   "execution_count": 227,
   "metadata": {
    "collapsed": true
   },
   "outputs": [],
   "source": [
    "# Number of folds you wish to train\n",
    "folds = 5\n",
    "\n",
    "# Number of rows in your dataframe\n",
    "n = training_data.shape[0]\n",
    "\n",
    "kf = KFold(n,folds,random_state=123)"
   ]
  },
  {
   "cell_type": "markdown",
   "metadata": {},
   "source": [
    "# Model Building - Linear Regression\n",
    "\n",
    "With feature prepared and a cross-validation framework in place, train and tune a linear regressor to predict year-end sales using your q1 data"
   ]
  },
  {
   "cell_type": "code",
   "execution_count": 263,
   "metadata": {
    "collapsed": true
   },
   "outputs": [],
   "source": [
    "from sklearn.linear_model import LinearRegression\n",
    "from sklearn.metrics import mean_absolute_error,mean_squared_error,r2_score\n",
    "import numpy as np"
   ]
  },
  {
   "cell_type": "code",
   "execution_count": 264,
   "metadata": {
    "collapsed": true
   },
   "outputs": [],
   "source": [
    "#select your feature column names\n",
    "\n",
    "feature_cols = ['Profit','Volume','Days']"
   ]
  },
  {
   "cell_type": "code",
   "execution_count": null,
   "metadata": {
    "collapsed": true
   },
   "outputs": [],
   "source": []
  },
  {
   "cell_type": "code",
   "execution_count": 265,
   "metadata": {
    "collapsed": true
   },
   "outputs": [],
   "source": [
    "# define your X (features) and y (target)\n",
    "# hint - make sure your y is not in your X!\n",
    "\n",
    "X = training_data[feature_cols]\n",
    "y = training_data['Total_Sales']\n"
   ]
  },
  {
   "cell_type": "markdown",
   "metadata": {},
   "source": [
    "Instantiate your model"
   ]
  },
  {
   "cell_type": "code",
   "execution_count": 266,
   "metadata": {
    "collapsed": true
   },
   "outputs": [],
   "source": [
    "lr = LinearRegression()"
   ]
  },
  {
   "cell_type": "markdown",
   "metadata": {},
   "source": [
    "Use the kfolds iterator to **train** and **evaluate** your model, using Mean Squared Error (MSE) as your evluation metric"
   ]
  },
  {
   "cell_type": "code",
   "execution_count": 267,
   "metadata": {
    "collapsed": true
   },
   "outputs": [],
   "source": [
    "# Create a blank list to store fold scores\n",
    "scores = []\n",
    "# Fill-in the kfolds-loop:\n",
    "\n",
    "for train,test in kf:\n",
    "    # Set up your training and testing sets\n",
    "    x_train = X.iloc[train]\n",
    "    x_test = X.iloc[test]\n",
    "    y_train = y.iloc[train]\n",
    "    y_true = y.iloc[test]\n",
    "    \n",
    "    # Fit your model on your training x and training y\n",
    "    lr.fit(x_train,y_train)\n",
    "    \n",
    "    # Make Predictions\n",
    "    y_preds = lr.predict(x_test)\n",
    "    \n",
    "    # Score your predictions vs. your true values using mean_squared_error\n",
    "    fold_score = metrics.mean_squared_error(y_true, y_preds)\n",
    "    \n",
    "    # Append your score \n",
    "    scores.append(fold_score)\n"
   ]
  },
  {
   "cell_type": "code",
   "execution_count": 256,
   "metadata": {},
   "outputs": [
    {
     "name": "stdout",
     "output_type": "stream",
     "text": [
      "0.964558608893\n",
      "[55456172.837093204, 81478598.243305594, 179184200.37333959, 194167959.22485924, 106083572.59689915]\n",
      "123274100.655\n"
     ]
    }
   ],
   "source": [
    "# View your fold scores, and calculate the mean score across your folds\n",
    "\n",
    "print lr.score(X,y)\n",
    "print scores\n",
    "print np.mean(scores)"
   ]
  },
  {
   "cell_type": "markdown",
   "metadata": {},
   "source": [
    "### Coefficients and Intercept\n",
    "\n",
    "View the coefficients of your model - what do the coefficients tell you about the relationships between your features and your target?"
   ]
  },
  {
   "cell_type": "code",
   "execution_count": 269,
   "metadata": {
    "scrolled": true
   },
   "outputs": [
    {
     "data": {
      "text/plain": [
       "[('Profit', 17.422756582747837), ('Volume', -20.533237364006101)]"
      ]
     },
     "execution_count": 269,
     "metadata": {},
     "output_type": "execute_result"
    }
   ],
   "source": [
    "list(zip(feature_cols,lr.coef_))"
   ]
  },
  {
   "cell_type": "code",
   "execution_count": 270,
   "metadata": {
    "scrolled": true
   },
   "outputs": [
    {
     "data": {
      "text/plain": [
       "995.94820112876914"
      ]
     },
     "execution_count": 270,
     "metadata": {},
     "output_type": "execute_result"
    }
   ],
   "source": [
    "lr.intercept_"
   ]
  },
  {
   "cell_type": "markdown",
   "metadata": {},
   "source": [
    "### Tuning Your Model\n",
    "\n",
    "So far, you've trained a basic linear model and evaluated it using Mean Squared Error. Use the same process as above to evaluate your model using: Mean Absolute Error (MAE), Root Mean Squared Error (RMSE) and calculate the R2 score of your predictions.\n",
    "\n",
    "Try some of the parameters available for your linear model, and different sets of features to find a model that you feel will **perform best on new, out of sample data**"
   ]
  },
  {
   "cell_type": "code",
   "execution_count": 271,
   "metadata": {
    "collapsed": true
   },
   "outputs": [],
   "source": [
    "feature_cols_new = ['Profit','Volume','Days']"
   ]
  },
  {
   "cell_type": "code",
   "execution_count": 272,
   "metadata": {
    "collapsed": true
   },
   "outputs": [],
   "source": [
    "X = training_data[feature_cols_new]\n",
    "y = training_data['Total_Sales']"
   ]
  },
  {
   "cell_type": "code",
   "execution_count": 273,
   "metadata": {
    "collapsed": true
   },
   "outputs": [],
   "source": [
    "# Use K-Folds cross validation to train your model\n",
    "# Evaluate your model using MAE, MSE, RMSE and R2 "
   ]
  },
  {
   "cell_type": "code",
   "execution_count": 274,
   "metadata": {
    "collapsed": true
   },
   "outputs": [],
   "source": [
    "lr = LinearRegression()\n",
    "MAE_scores = []\n",
    "MSE_scores = []\n",
    "RMSE_scores = []\n",
    "R2_scores = []"
   ]
  },
  {
   "cell_type": "code",
   "execution_count": 275,
   "metadata": {
    "collapsed": true
   },
   "outputs": [],
   "source": [
    "for train,test in kf:\n",
    "    # Set up your training and testing sets\n",
    "    x_train = X.iloc[train]\n",
    "    x_test = X.iloc[test]\n",
    "    y_train = y.iloc[train]\n",
    "    y_true = y.iloc[test]\n",
    "    \n",
    "    # Fit your model on your training x and training y\n",
    "    lr.fit(x_train,y_train)\n",
    "    \n",
    "    # Make Predictions\n",
    "    y_preds = lr.predict(x_test)\n",
    "    \n",
    "    # Score your predictions vs. your true values using mean_squared_error\n",
    "    MAE_fold_score = metrics.mean_absolute_error(y_true, y_preds)\n",
    "    MSE_fold_score = metrics.mean_squared_error(y_true, y_preds)\n",
    "    RMSE_fold_score = np.sqrt(metrics.mean_squared_error(y_true, y_preds))\n",
    "    R2_fold_score = lr.score(X,y)\n",
    "    \n",
    "    # Append your score \n",
    "    MAE_scores.append(MAE_fold_score)\n",
    "    MSE_scores.append(MSE_fold_score)\n",
    "    RMSE_scores.append(RMSE_fold_score)\n",
    "    R2_scores.append(R2_fold_score)"
   ]
  },
  {
   "cell_type": "code",
   "execution_count": 276,
   "metadata": {
    "collapsed": true
   },
   "outputs": [],
   "source": [
    "# Compare your MAE, MSE, RMSE and R2 values for your folds; describe anything that stands out.\n",
    "# How do your metrics respond to different feature sets?\n",
    "## Profit seems to be the largest contributor to the model. Whiskey sales reduced the score.\n",
    "## Volume and Days (of sales) slightly improved the model."
   ]
  },
  {
   "cell_type": "code",
   "execution_count": 316,
   "metadata": {},
   "outputs": [
    {
     "name": "stdout",
     "output_type": "stream",
     "text": [
      "4890.15483008\n",
      "123274100.655\n",
      "10818.7028802\n",
      "0.963858171468\n",
      "4917747.91\n",
      "5152099.76051\n",
      "0.0476543033104\n"
     ]
    }
   ],
   "source": [
    "print np.mean(MAE_scores)\n",
    "print np.mean(MSE_scores)\n",
    "print np.mean(RMSE_scores)\n",
    "print np.mean(R2_scores)\n",
    "print y_true.sum()\n",
    "print y_preds.sum()\n",
    "print (y_preds.sum()-y_true.sum())/y_true.sum()"
   ]
  },
  {
   "cell_type": "code",
   "execution_count": 278,
   "metadata": {
    "collapsed": true
   },
   "outputs": [],
   "source": [
    "# Evaluate your coefficients and your intercept"
   ]
  },
  {
   "cell_type": "code",
   "execution_count": 279,
   "metadata": {},
   "outputs": [
    {
     "name": "stdout",
     "output_type": "stream",
     "text": [
      "[('Profit', 17.470122825034117), ('Volume', -21.257756777544515)]\n",
      "-21.3900614028\n"
     ]
    }
   ],
   "source": [
    "print list(zip(feature_cols,lr.coef_))\n",
    "print lr.intercept_"
   ]
  },
  {
   "cell_type": "markdown",
   "metadata": {},
   "source": [
    "## Test against your hold-out set\n",
    "\n",
    "Before you build your model, you set aside some of your data for testing. Your model has never trained against these data points or been evaluated agaist these points.\n",
    "\n",
    "Use **ALL** of your training data to train, then test your model against your holdout set."
   ]
  },
  {
   "cell_type": "code",
   "execution_count": 280,
   "metadata": {
    "collapsed": true
   },
   "outputs": [],
   "source": [
    "# Pick your best set of feature columns\n",
    "features = ['Profit','Volume','Days']\n",
    "\n",
    "X_train = training_data[features]\n",
    "y_train = training_data['Total_Sales']\n",
    "\n",
    "x_holdout = holdout[features]\n",
    "y_holdout = holdout['Total_Sales']"
   ]
  },
  {
   "cell_type": "code",
   "execution_count": 281,
   "metadata": {
    "collapsed": true
   },
   "outputs": [],
   "source": [
    "lr = LinearRegression()"
   ]
  },
  {
   "cell_type": "code",
   "execution_count": 282,
   "metadata": {},
   "outputs": [
    {
     "data": {
      "text/plain": [
       "LinearRegression(copy_X=True, fit_intercept=True, n_jobs=1, normalize=False)"
      ]
     },
     "execution_count": 282,
     "metadata": {},
     "output_type": "execute_result"
    }
   ],
   "source": [
    "# Fit your model using all of your training data\n",
    "lr.fit(X_train,y_train)"
   ]
  },
  {
   "cell_type": "code",
   "execution_count": 283,
   "metadata": {
    "collapsed": true
   },
   "outputs": [],
   "source": [
    "# Create predictions using your holdout set (x_holdout)\n",
    "holdout_preds = lr.predict(x_holdout)"
   ]
  },
  {
   "cell_type": "code",
   "execution_count": 284,
   "metadata": {
    "collapsed": true
   },
   "outputs": [],
   "source": [
    "# score your model using MAE, MSE, RMSE, and R2\n",
    "# hint: what is y_test and what is your y_true?\n",
    "\n",
    "MAE_score = metrics.mean_absolute_error(y_holdout, holdout_preds)\n",
    "MSE_score = metrics.mean_squared_error(y_holdout, holdout_preds)\n",
    "RMSE_score = np.sqrt(metrics.mean_squared_error(y_holdout, holdout_preds))\n",
    "R2_score = lr.score(x_holdout, y_holdout)"
   ]
  },
  {
   "cell_type": "code",
   "execution_count": 315,
   "metadata": {},
   "outputs": [
    {
     "name": "stdout",
     "output_type": "stream",
     "text": [
      "5125.86578734\n",
      "109922530.082\n",
      "10484.3945978\n",
      "0.940339420734\n",
      "2865509.57\n",
      "2998467.24699\n",
      "0.0463993135384\n"
     ]
    }
   ],
   "source": [
    "# print your scores\n",
    "print MAE_score\n",
    "print MSE_score\n",
    "print RMSE_score\n",
    "print R2_score\n",
    "print y_holdout.sum()\n",
    "print holdout_preds.sum()\n",
    "print (holdout_preds.sum()-y_holdout.sum())/y_holdout.sum()"
   ]
  },
  {
   "cell_type": "code",
   "execution_count": 286,
   "metadata": {},
   "outputs": [
    {
     "data": {
      "text/plain": [
       "<matplotlib.collections.PathCollection at 0x1f8fa390>"
      ]
     },
     "execution_count": 286,
     "metadata": {},
     "output_type": "execute_result"
    },
    {
     "data": {
      "image/png": "[encoded data removed]",
      "text/plain": [
       "<matplotlib.figure.Figure at 0x1183e3c8>"
      ]
     },
     "metadata": {},
     "output_type": "display_data"
    }
   ],
   "source": [
    "# Create a scatter plot of your predicted values vs. their true values\n",
    "# Describe anything you observe\n",
    "plt.scatter(y_holdout, holdout_preds)\n",
    "## Appears to be a relatively straight line with slope of 1, indicating a solid prediction most of the time."
   ]
  },
  {
   "cell_type": "code",
   "execution_count": 312,
   "metadata": {
    "collapsed": true
   },
   "outputs": [
    {
     "name": "stdout",
     "output_type": "stream",
     "text": [
      "StoreNumber\n",
      "4239    -1612.461182\n",
      "3013     -959.272777\n",
      "4669     9241.649729\n",
      "4358     1642.681094\n",
      "4143      399.583955\n",
      "4640    10667.460289\n",
      "4393    -1270.083165\n",
      "3654     1736.144028\n",
      "4071     2471.381433\n",
      "4897    -3814.259208\n",
      "4801     2197.581980\n",
      "3713    -5561.007185\n",
      "4652     5103.568608\n",
      "3952    64854.739232\n",
      "4425     1166.912902\n",
      "4530     2510.572948\n",
      "4360      523.475442\n",
      "4780    -1504.928707\n",
      "4436      224.728300\n",
      "4821     1660.894988\n",
      "4299    -2452.585026\n",
      "4895      717.908064\n",
      "3877     -182.029552\n",
      "4279     -553.391441\n",
      "3715    -2020.611279\n",
      "4807     -359.188075\n",
      "3735      334.102540\n",
      "2285   -28788.861467\n",
      "4489     1869.458961\n",
      "4470     1961.675315\n",
      "            ...     \n",
      "4793    -1675.082749\n",
      "4384     2484.368533\n",
      "2584    -4790.400185\n",
      "4018      -28.202271\n",
      "3871      709.442869\n",
      "4663    -2281.003528\n",
      "4627    -2042.358930\n",
      "4421     2188.630978\n",
      "4742     7796.406239\n",
      "4194    -5509.307216\n",
      "2806     5488.965122\n",
      "4051   -12793.850490\n",
      "3591      633.574203\n",
      "3790    -9623.548501\n",
      "2652     4526.726613\n",
      "4320     -467.399186\n",
      "4935    -8648.335936\n",
      "4326     -475.418587\n",
      "4731     1957.255260\n",
      "3805     6422.991775\n",
      "4527      460.973111\n",
      "4359      557.711353\n",
      "2582   -21220.437450\n",
      "2648    46606.968871\n",
      "4081      717.829507\n",
      "4247     -992.830474\n",
      "4023     2970.843071\n",
      "4992     -647.629116\n",
      "4509     5315.135280\n",
      "4725     2546.211080\n",
      "Name: Total_Sales, Length: 127, dtype: float64\n"
     ]
    }
   ],
   "source": [
    "# Calculate your residuals (prediction - actual)\n",
    "holdout_residuals = holdout_preds - y_holdout\n",
    "print holdout_residuals"
   ]
  },
  {
   "cell_type": "code",
   "execution_count": 288,
   "metadata": {},
   "outputs": [
    {
     "data": {
      "text/plain": [
       "(array([  3.,   1.,   7.,  93.,  16.,   5.,   0.,   0.,   1.,   1.]),\n",
       " array([-36912.64263809, -26735.90445105, -16559.16626401,  -6382.42807696,\n",
       "          3794.31011008,  13971.04829712,  24147.78648417,  34324.52467121,\n",
       "         44501.26285825,  54678.0010453 ,  64854.73923234]),\n",
       " <a list of 10 Patch objects>)"
      ]
     },
     "execution_count": 288,
     "metadata": {},
     "output_type": "execute_result"
    },
    {
     "data": {
      "image/png": "[encoded data removed]",
      "text/plain": [
       "<matplotlib.figure.Figure at 0x13012780>"
      ]
     },
     "metadata": {},
     "output_type": "display_data"
    }
   ],
   "source": [
    "# Create a histogram of your residuals. Describe anything you observe\n",
    "plt.hist(holdout_residuals)"
   ]
  },
  {
   "cell_type": "markdown",
   "metadata": {},
   "source": [
    "# Final Predictions\n",
    "\n",
    "You've created a model that predicts 2015 year end sales based on Q1 2015 data. \n",
    "\n",
    "In the data source, we have included data for Q1 of 2016. Apply your feature engineering process to the 2016 Q1 data, then use your trained 2015 model to predict the 2016 year end values for those stores.\n",
    "\n",
    "Note: you do not have the 2016 year end values to evaluate against.\n"
   ]
  },
  {
   "cell_type": "markdown",
   "metadata": {},
   "source": [
    "### Feature Engineering\n",
    "Perform the same aggregation and feature creation you used on 2015 data on the 2016 data "
   ]
  },
  {
   "cell_type": "code",
   "execution_count": 291,
   "metadata": {
    "scrolled": true
   },
   "outputs": [],
   "source": [
    "liquor2016 = liquor[liquor.Date.dt.year == 2016]"
   ]
  },
  {
   "cell_type": "code",
   "execution_count": 292,
   "metadata": {
    "collapsed": true
   },
   "outputs": [
    {
     "data": {
      "text/html": [
       "<div>\n",
       "<style>\n",
       "    .dataframe thead tr:only-child th {\n",
       "        text-align: right;\n",
       "    }\n",
       "\n",
       "    .dataframe thead th {\n",
       "        text-align: left;\n",
       "    }\n",
       "\n",
       "    .dataframe tbody tr th {\n",
       "        vertical-align: top;\n",
       "    }\n",
       "</style>\n",
       "<table border=\"1\" class=\"dataframe\">\n",
       "  <thead>\n",
       "    <tr style=\"text-align: right;\">\n",
       "      <th></th>\n",
       "      <th>Total_Sales</th>\n",
       "    </tr>\n",
       "    <tr>\n",
       "      <th>StoreNumber</th>\n",
       "      <th></th>\n",
       "    </tr>\n",
       "  </thead>\n",
       "  <tbody>\n",
       "    <tr>\n",
       "      <th>9001</th>\n",
       "      <td>708.24</td>\n",
       "    </tr>\n",
       "    <tr>\n",
       "      <th>9002</th>\n",
       "      <td>1382.64</td>\n",
       "    </tr>\n",
       "    <tr>\n",
       "      <th>9010</th>\n",
       "      <td>177.48</td>\n",
       "    </tr>\n",
       "    <tr>\n",
       "      <th>9013</th>\n",
       "      <td>361.56</td>\n",
       "    </tr>\n",
       "    <tr>\n",
       "      <th>9023</th>\n",
       "      <td>633.36</td>\n",
       "    </tr>\n",
       "  </tbody>\n",
       "</table>\n",
       "</div>"
      ],
      "text/plain": [
       "             Total_Sales\n",
       "StoreNumber             \n",
       "9001              708.24\n",
       "9002             1382.64\n",
       "9010              177.48\n",
       "9013              361.56\n",
       "9023              633.36"
      ]
     },
     "execution_count": 292,
     "metadata": {},
     "output_type": "execute_result"
    }
   ],
   "source": [
    "liquor2016_fy = liquor2016.SaleDollars.groupby(liquor.StoreNumber).agg(['sum'])\n",
    "liquor2016_fy.columns = ['Total_Sales']\n",
    "liquor2016_fy.tail()"
   ]
  },
  {
   "cell_type": "code",
   "execution_count": 293,
   "metadata": {
    "collapsed": true
   },
   "outputs": [],
   "source": [
    "liquor2016_q1 = liquor2016[liquor2016.Date.dt.quarter == 1]"
   ]
  },
  {
   "cell_type": "code",
   "execution_count": 294,
   "metadata": {
    "collapsed": true
   },
   "outputs": [
    {
     "data": {
      "text/html": [
       "<div>\n",
       "<style>\n",
       "    .dataframe thead tr:only-child th {\n",
       "        text-align: right;\n",
       "    }\n",
       "\n",
       "    .dataframe thead th {\n",
       "        text-align: left;\n",
       "    }\n",
       "\n",
       "    .dataframe tbody tr th {\n",
       "        vertical-align: top;\n",
       "    }\n",
       "</style>\n",
       "<table border=\"1\" class=\"dataframe\">\n",
       "  <thead>\n",
       "    <tr style=\"text-align: right;\">\n",
       "      <th></th>\n",
       "      <th>Profit</th>\n",
       "    </tr>\n",
       "    <tr>\n",
       "      <th>StoreNumber</th>\n",
       "      <th></th>\n",
       "    </tr>\n",
       "  </thead>\n",
       "  <tbody>\n",
       "    <tr>\n",
       "      <th>9001</th>\n",
       "      <td>236.16</td>\n",
       "    </tr>\n",
       "    <tr>\n",
       "      <th>9002</th>\n",
       "      <td>461.10</td>\n",
       "    </tr>\n",
       "    <tr>\n",
       "      <th>9010</th>\n",
       "      <td>59.16</td>\n",
       "    </tr>\n",
       "    <tr>\n",
       "      <th>9013</th>\n",
       "      <td>120.60</td>\n",
       "    </tr>\n",
       "    <tr>\n",
       "      <th>9023</th>\n",
       "      <td>211.20</td>\n",
       "    </tr>\n",
       "  </tbody>\n",
       "</table>\n",
       "</div>"
      ],
      "text/plain": [
       "             Profit\n",
       "StoreNumber        \n",
       "9001         236.16\n",
       "9002         461.10\n",
       "9010          59.16\n",
       "9013         120.60\n",
       "9023         211.20"
      ]
     },
     "execution_count": 294,
     "metadata": {},
     "output_type": "execute_result"
    }
   ],
   "source": [
    "liquor2016_q1.Profit = (liquor2016_q1.StateBottleRetail - liquor2016_q1.StateBottleCost) * liquor2016_q1.BottlesSold\n",
    "liquor2016_q1_profit = liquor2016_q1.Profit.groupby(liquor2016_q1.StoreNumber).agg(['sum'])\n",
    "liquor2016_q1_profit.columns = ['Profit']\n",
    "liquor2016_q1_profit.tail()"
   ]
  },
  {
   "cell_type": "code",
   "execution_count": 295,
   "metadata": {
    "collapsed": true
   },
   "outputs": [
    {
     "data": {
      "text/html": [
       "<div>\n",
       "<style>\n",
       "    .dataframe thead tr:only-child th {\n",
       "        text-align: right;\n",
       "    }\n",
       "\n",
       "    .dataframe thead th {\n",
       "        text-align: left;\n",
       "    }\n",
       "\n",
       "    .dataframe tbody tr th {\n",
       "        vertical-align: top;\n",
       "    }\n",
       "</style>\n",
       "<table border=\"1\" class=\"dataframe\">\n",
       "  <thead>\n",
       "    <tr style=\"text-align: right;\">\n",
       "      <th></th>\n",
       "      <th>Whisky</th>\n",
       "    </tr>\n",
       "    <tr>\n",
       "      <th>StoreNumber</th>\n",
       "      <th></th>\n",
       "    </tr>\n",
       "  </thead>\n",
       "  <tbody>\n",
       "    <tr>\n",
       "      <th>9001</th>\n",
       "      <td>708.24</td>\n",
       "    </tr>\n",
       "    <tr>\n",
       "      <th>9002</th>\n",
       "      <td>327.36</td>\n",
       "    </tr>\n",
       "    <tr>\n",
       "      <th>9010</th>\n",
       "      <td>0.00</td>\n",
       "    </tr>\n",
       "    <tr>\n",
       "      <th>9013</th>\n",
       "      <td>0.00</td>\n",
       "    </tr>\n",
       "    <tr>\n",
       "      <th>9023</th>\n",
       "      <td>633.36</td>\n",
       "    </tr>\n",
       "  </tbody>\n",
       "</table>\n",
       "</div>"
      ],
      "text/plain": [
       "             Whisky\n",
       "StoreNumber        \n",
       "9001         708.24\n",
       "9002         327.36\n",
       "9010           0.00\n",
       "9013           0.00\n",
       "9023         633.36"
      ]
     },
     "execution_count": 295,
     "metadata": {},
     "output_type": "execute_result"
    }
   ],
   "source": [
    "liquor2016_q1.Whisky = liquor2016_q1.CategoryName.str.contains('WHISK') * liquor2016_q1.SaleDollars\n",
    "liquor2016_q1_whisky = liquor2016_q1.Whisky.groupby(liquor2016_q1.StoreNumber).agg(['sum'])\n",
    "liquor2016_q1_whisky.columns = ['Whisky']\n",
    "liquor2016_q1_whisky.tail()"
   ]
  },
  {
   "cell_type": "code",
   "execution_count": 296,
   "metadata": {
    "collapsed": true
   },
   "outputs": [
    {
     "data": {
      "text/html": [
       "<div>\n",
       "<style>\n",
       "    .dataframe thead tr:only-child th {\n",
       "        text-align: right;\n",
       "    }\n",
       "\n",
       "    .dataframe thead th {\n",
       "        text-align: left;\n",
       "    }\n",
       "\n",
       "    .dataframe tbody tr th {\n",
       "        vertical-align: top;\n",
       "    }\n",
       "</style>\n",
       "<table border=\"1\" class=\"dataframe\">\n",
       "  <thead>\n",
       "    <tr style=\"text-align: right;\">\n",
       "      <th></th>\n",
       "      <th>Volume</th>\n",
       "    </tr>\n",
       "    <tr>\n",
       "      <th>StoreNumber</th>\n",
       "      <th></th>\n",
       "    </tr>\n",
       "  </thead>\n",
       "  <tbody>\n",
       "    <tr>\n",
       "      <th>9001</th>\n",
       "      <td>18.0</td>\n",
       "    </tr>\n",
       "    <tr>\n",
       "      <th>9002</th>\n",
       "      <td>49.5</td>\n",
       "    </tr>\n",
       "    <tr>\n",
       "      <th>9010</th>\n",
       "      <td>9.0</td>\n",
       "    </tr>\n",
       "    <tr>\n",
       "      <th>9013</th>\n",
       "      <td>30.0</td>\n",
       "    </tr>\n",
       "    <tr>\n",
       "      <th>9023</th>\n",
       "      <td>18.0</td>\n",
       "    </tr>\n",
       "  </tbody>\n",
       "</table>\n",
       "</div>"
      ],
      "text/plain": [
       "             Volume\n",
       "StoreNumber        \n",
       "9001           18.0\n",
       "9002           49.5\n",
       "9010            9.0\n",
       "9013           30.0\n",
       "9023           18.0"
      ]
     },
     "execution_count": 296,
     "metadata": {},
     "output_type": "execute_result"
    }
   ],
   "source": [
    "liquor2016_q1_volume = liquor2016_q1.VolumeSoldLiters.groupby(liquor2016_q1.StoreNumber).agg(['sum'])\n",
    "liquor2016_q1_volume.columns = ['Volume']\n",
    "liquor2016_q1_volume.tail()"
   ]
  },
  {
   "cell_type": "code",
   "execution_count": 297,
   "metadata": {
    "collapsed": true
   },
   "outputs": [
    {
     "data": {
      "text/html": [
       "<div>\n",
       "<style>\n",
       "    .dataframe thead tr:only-child th {\n",
       "        text-align: right;\n",
       "    }\n",
       "\n",
       "    .dataframe thead th {\n",
       "        text-align: left;\n",
       "    }\n",
       "\n",
       "    .dataframe tbody tr th {\n",
       "        vertical-align: top;\n",
       "    }\n",
       "</style>\n",
       "<table border=\"1\" class=\"dataframe\">\n",
       "  <thead>\n",
       "    <tr style=\"text-align: right;\">\n",
       "      <th></th>\n",
       "      <th>Days</th>\n",
       "    </tr>\n",
       "    <tr>\n",
       "      <th>StoreNumber</th>\n",
       "      <th></th>\n",
       "    </tr>\n",
       "  </thead>\n",
       "  <tbody>\n",
       "    <tr>\n",
       "      <th>9001</th>\n",
       "      <td>1</td>\n",
       "    </tr>\n",
       "    <tr>\n",
       "      <th>9002</th>\n",
       "      <td>4</td>\n",
       "    </tr>\n",
       "    <tr>\n",
       "      <th>9010</th>\n",
       "      <td>1</td>\n",
       "    </tr>\n",
       "    <tr>\n",
       "      <th>9013</th>\n",
       "      <td>2</td>\n",
       "    </tr>\n",
       "    <tr>\n",
       "      <th>9023</th>\n",
       "      <td>1</td>\n",
       "    </tr>\n",
       "  </tbody>\n",
       "</table>\n",
       "</div>"
      ],
      "text/plain": [
       "             Days\n",
       "StoreNumber      \n",
       "9001            1\n",
       "9002            4\n",
       "9010            1\n",
       "9013            2\n",
       "9023            1"
      ]
     },
     "execution_count": 297,
     "metadata": {},
     "output_type": "execute_result"
    }
   ],
   "source": [
    "liquor2016_q1_days = pd.DataFrame.from_dict(liquor2016_q1.Date.groupby(liquor2016_q1.StoreNumber).unique().apply(lambda x: len(x)))\n",
    "liquor2016_q1_days.columns = ['Days']\n",
    "liquor2016_q1_days.tail()"
   ]
  },
  {
   "cell_type": "code",
   "execution_count": 298,
   "metadata": {
    "collapsed": true
   },
   "outputs": [
    {
     "data": {
      "text/html": [
       "<div>\n",
       "<style>\n",
       "    .dataframe thead tr:only-child th {\n",
       "        text-align: right;\n",
       "    }\n",
       "\n",
       "    .dataframe thead th {\n",
       "        text-align: left;\n",
       "    }\n",
       "\n",
       "    .dataframe tbody tr th {\n",
       "        vertical-align: top;\n",
       "    }\n",
       "</style>\n",
       "<table border=\"1\" class=\"dataframe\">\n",
       "  <thead>\n",
       "    <tr style=\"text-align: right;\">\n",
       "      <th></th>\n",
       "      <th>Profit</th>\n",
       "      <th>Whisky</th>\n",
       "      <th>Volume</th>\n",
       "      <th>Days</th>\n",
       "    </tr>\n",
       "    <tr>\n",
       "      <th>StoreNumber</th>\n",
       "      <th></th>\n",
       "      <th></th>\n",
       "      <th></th>\n",
       "      <th></th>\n",
       "    </tr>\n",
       "  </thead>\n",
       "  <tbody>\n",
       "    <tr>\n",
       "      <th>2106</th>\n",
       "      <td>10189.68</td>\n",
       "      <td>8538.49</td>\n",
       "      <td>2117.75</td>\n",
       "      <td>13</td>\n",
       "    </tr>\n",
       "    <tr>\n",
       "      <th>2113</th>\n",
       "      <td>693.49</td>\n",
       "      <td>592.23</td>\n",
       "      <td>177.00</td>\n",
       "      <td>12</td>\n",
       "    </tr>\n",
       "    <tr>\n",
       "      <th>2130</th>\n",
       "      <td>9288.29</td>\n",
       "      <td>8795.66</td>\n",
       "      <td>1556.90</td>\n",
       "      <td>13</td>\n",
       "    </tr>\n",
       "    <tr>\n",
       "      <th>2152</th>\n",
       "      <td>461.44</td>\n",
       "      <td>780.88</td>\n",
       "      <td>140.13</td>\n",
       "      <td>10</td>\n",
       "    </tr>\n",
       "    <tr>\n",
       "      <th>2178</th>\n",
       "      <td>1868.76</td>\n",
       "      <td>1987.14</td>\n",
       "      <td>520.80</td>\n",
       "      <td>13</td>\n",
       "    </tr>\n",
       "  </tbody>\n",
       "</table>\n",
       "</div>"
      ],
      "text/plain": [
       "               Profit   Whisky   Volume  Days\n",
       "StoreNumber                                  \n",
       "2106         10189.68  8538.49  2117.75    13\n",
       "2113           693.49   592.23   177.00    12\n",
       "2130          9288.29  8795.66  1556.90    13\n",
       "2152           461.44   780.88   140.13    10\n",
       "2178          1868.76  1987.14   520.80    13"
      ]
     },
     "execution_count": 298,
     "metadata": {},
     "output_type": "execute_result"
    }
   ],
   "source": [
    "liquor2016_q1_features = liquor2016_q1_profit.merge(liquor2016_q1_whisky,left_index=True,right_index=True)\\\n",
    ".merge(liquor2016_q1_volume,left_index=True,right_index=True)\\\n",
    ".merge(liquor2016_q1_days,left_index=True,right_index=True)\n",
    "liquor2016_q1_features.head()"
   ]
  },
  {
   "cell_type": "markdown",
   "metadata": {},
   "source": [
    "### Make Predictions\n",
    "\n",
    "Once you have your 2016 features, use your trained 2015 model on the 2016 Q1 data to get your predictions for 2016\n",
    "\n",
    "Do not retrain a model on the 2016 data*"
   ]
  },
  {
   "cell_type": "code",
   "execution_count": null,
   "metadata": {
    "collapsed": true
   },
   "outputs": [],
   "source": [
    "# Make Predictions"
   ]
  },
  {
   "cell_type": "code",
   "execution_count": 301,
   "metadata": {
    "collapsed": true
   },
   "outputs": [],
   "source": [
    "feature_cols_2016 = ['Profit','Volume','Days']\n",
    "x_2016 = liquor2016_q1_features[feature_cols_2016]"
   ]
  },
  {
   "cell_type": "code",
   "execution_count": 302,
   "metadata": {},
   "outputs": [],
   "source": [
    "preds_2016 = lr.predict(x_2016)"
   ]
  },
  {
   "cell_type": "code",
   "execution_count": 303,
   "metadata": {
    "collapsed": true
   },
   "outputs": [],
   "source": [
    "# Show your 2016 year-end prediction for each store"
   ]
  },
  {
   "cell_type": "code",
   "execution_count": 308,
   "metadata": {},
   "outputs": [],
   "source": [
    "store_preds_2016 = x_2016\n",
    "store_preds_2016['PredictedSales'] = preds_2016"
   ]
  },
  {
   "cell_type": "code",
   "execution_count": 311,
   "metadata": {
    "collapsed": true
   },
   "outputs": [
    {
     "name": "stdout",
     "output_type": "stream",
     "text": [
      "29170975.044\n"
     ]
    },
    {
     "data": {
      "text/plain": [
       "StoreNumber\n",
       "2106    135081.822452\n",
       "2113     10007.023520\n",
       "2130    128874.849390\n",
       "2152      6512.516761\n",
       "2178     24055.882551\n",
       "Name: PredictedSales, dtype: float64"
      ]
     },
     "execution_count": 311,
     "metadata": {},
     "output_type": "execute_result"
    }
   ],
   "source": [
    "print store_preds_2016['PredictedSales'].sum()\n",
    "store_preds_2016['PredictedSales'].head()"
   ]
  },
  {
   "cell_type": "markdown",
   "metadata": {},
   "source": [
    "# Evaluation:\n",
    "\n",
    "Do your best to answer the following questions:\n",
    "\n",
    "* What was the best set of features you found for your model?\n",
    "* Describe the relationships between your features and your target\n",
    "* How did your model perform in the training phase? Against the holdout set? \n",
    "* Did it perform better or worse against the holdout set?\n",
    "\n",
    "Finally:\n",
    "* Write a short description of your analysis, describing the process you went through and your confidence in your model's predictive ability\n",
    "* Include any data, or visualizations you feel would help support your findings"
   ]
  },
  {
   "cell_type": "markdown",
   "metadata": {
    "collapsed": true
   },
   "source": [
    "#### ['Profit','Volume','Days'] seemed to be the best set of features that I created. Profit was the most important feature,\n",
    "#### but Volume and Days (in which a sale occurred) made the predictions slightly better."
   ]
  },
  {
   "cell_type": "markdown",
   "metadata": {
    "collapsed": true
   },
   "source": [
    "#### See the responses below 'Type Markdown and LaTeX:  α2α2' for more discussion of feature relationships."
   ]
  },
  {
   "cell_type": "markdown",
   "metadata": {
    "collapsed": true
   },
   "source": [
    "#### The model seemed to work well on the training set. There were some large outliers,\n",
    "#### but most predictions had acceptably small error, and the overall amount was within the 5% threshold I set in Part 1. \n",
    "#### Slightly better results were seen when the holdout set was tested (more details on that below)."
   ]
  },
  {
   "cell_type": "markdown",
   "metadata": {
    "collapsed": true
   },
   "source": [
    "#### I think there was a little more error in the holdout set, but it was skewed less to outliers,\n",
    "#### so the metrics based on squared error improved.\n",
    "#### The error in the holdout set also seemed to cancel itself out better than in the testing set,\n",
    "#### resulting in less total error when summed across all stores."
   ]
  },
  {
   "cell_type": "markdown",
   "metadata": {},
   "source": []
  },
  {
   "cell_type": "markdown",
   "metadata": {
    "collapsed": true
   },
   "source": [
    "#### Profit seemed a reasonable way to indicate how well the business of a given store was doing\n",
    "#### while also signaling the overall sales in the state, so it would achieve better store level results than SaleDollars alone\n",
    "#### while also maintaing state-wide SaleDollars predictive power."
   ]
  },
  {
   "cell_type": "markdown",
   "metadata": {
    "collapsed": true
   },
   "source": [
    "#### Volume seemed a reasonable way to indicate how much alcohol was being sold regardless of price, \n",
    "#### and I felt alcohol consumption levels are probably more consistent than the cost of that alcohol.\n",
    "#### I felt like Profit and Volume kind of accommodated the difference between quality and quantity of alcohol purchases."
   ]
  },
  {
   "cell_type": "markdown",
   "metadata": {
    "collapsed": true
   },
   "source": [
    "#### Days seemed a reasonable way to try and catch the signal behind stores opening/closing busniess, which I felt may have led\n",
    "#### to some of the large outliers, and possibly also identify stores that move a lot of product. \n",
    "#### It didn't seem to really achieve that, but the model performed slightly better with it, so I kept it."
   ]
  },
  {
   "cell_type": "markdown",
   "metadata": {
    "collapsed": true
   },
   "source": [
    "#### I'm confident in my model as it met the 5% threshold of success I set in Part 1,\n",
    "#### but feel that more elaborate features could probably improve it even more."
   ]
  },
  {
   "cell_type": "markdown",
   "metadata": {},
   "source": [
    "# Bonus - Regularization & Grid Search\n",
    "\n",
    "As a bonus, experiment with the effect of Lasso (L1) and Ridge (L2) regularization on your linear model. Use GridSearch to tune your additional parameters.\n",
    "\n",
    "See [gridseach 'scoring' options](http://scikit-learn.org/stable/modules/model_evaluation.html#scoring-parameter) for a list of scoring function strings recognized by GridSeach"
   ]
  },
  {
   "cell_type": "code",
   "execution_count": 317,
   "metadata": {},
   "outputs": [
    {
     "name": "stderr",
     "output_type": "stream",
     "text": [
      "C:\\Users\\Anaconda\\Anaconda2\\lib\\site-packages\\sklearn\\grid_search.py:42: DeprecationWarning: This module was deprecated in version 0.18 in favor of the model_selection module into which all the refactored classes and functions are moved. This module will be removed in 0.20.\n",
      "  DeprecationWarning)\n"
     ]
    }
   ],
   "source": [
    "from sklearn.linear_model import Lasso, Ridge\n",
    "from sklearn.grid_search import GridSearchCV"
   ]
  },
  {
   "cell_type": "code",
   "execution_count": 320,
   "metadata": {},
   "outputs": [],
   "source": [
    "# Instantiate models\n",
    "lr_ridge = Ridge()\n",
    "lr_lasso = Lasso()\n",
    "\n",
    "x_train = X.iloc[train]\n",
    "x_test = X.iloc[test]\n",
    "y_train = y.iloc[train]\n",
    "y_true = y.iloc[test]"
   ]
  },
  {
   "cell_type": "code",
   "execution_count": 323,
   "metadata": {},
   "outputs": [
    {
     "name": "stdout",
     "output_type": "stream",
     "text": [
      "~~~ Lasso ~~~\n",
      "('Lasso MSE: ', 106083448.25885616)\n",
      "('Lasso R2:', 0.91465721657465948)\n",
      "('Lasso % Delta:', 0.047653716808865043)\n",
      "~~~ Ridge ~~~\n",
      "('Ridge MSE: ', 106083563.6656488)\n",
      "('Ridge R2:', 0.91465712373136421)\n",
      "('Lasso % Delta:', 0.047653716808865043)\n"
     ]
    }
   ],
   "source": [
    "lr_ridge.fit(x_train, y_train)\n",
    "lr_lasso.fit(x_train, y_train)\n",
    "print(\"~~~ Lasso ~~~\")\n",
    "print('Lasso MSE: ', metrics.mean_squared_error(y_true, lr_lasso.predict(x_test)))\n",
    "print('Lasso R2:', lr_lasso.score(x_test, y_true))\n",
    "print('Lasso % Delta:',(lr_lasso.predict(x_test).sum()-y_true.sum())/y_true.sum())\n",
    "\n",
    "print(\"~~~ Ridge ~~~\")\n",
    "print('Ridge MSE: ', metrics.mean_squared_error(y_true, lr_ridge.predict(x_test)))\n",
    "print('Ridge R2:', lr_ridge.score(x_test, y_true))\n",
    "print('Lasso % Delta:',(lr_lasso.predict(x_test).sum()-y_true.sum())/y_true.sum())"
   ]
  },
  {
   "cell_type": "code",
   "execution_count": null,
   "metadata": {
    "collapsed": true
   },
   "outputs": [],
   "source": [
    "# Use your post-holdout training data, so you can evaluate on the holdout later"
   ]
  },
  {
   "cell_type": "code",
   "execution_count": 324,
   "metadata": {},
   "outputs": [
    {
     "name": "stdout",
     "output_type": "stream",
     "text": [
      "~~~ Lasso ~~~\n",
      "('Lasso MSE: ', 120939214.92767321)\n",
      "('Lasso R2:', 0.93436010239927725)\n",
      "('Lasso % Delta:', 0.059169335828507454)\n",
      "~~~ Ridge ~~~\n",
      "('Ridge MSE: ', 120940046.66421637)\n",
      "('Ridge R2:', 0.93435965097331464)\n",
      "('Lasso % Delta:', 0.059169335828507454)\n"
     ]
    }
   ],
   "source": [
    "print(\"~~~ Lasso ~~~\")\n",
    "print('Lasso MSE: ', metrics.mean_squared_error(y_holdout, lr_lasso.predict(x_holdout)))\n",
    "print('Lasso R2:', lr_lasso.score(x_holdout, y_holdout))\n",
    "print('Lasso % Delta:',(lr_lasso.predict(x_holdout).sum()-y_holdout.sum())/y_holdout.sum())\n",
    "\n",
    "print(\"~~~ Ridge ~~~\")\n",
    "print('Ridge MSE: ', metrics.mean_squared_error(y_holdout, lr_ridge.predict(x_holdout)))\n",
    "print('Ridge R2:', lr_ridge.score(x_holdout, y_holdout))\n",
    "print('Lasso % Delta:',(lr_lasso.predict(x_holdout).sum()-y_holdout.sum())/y_holdout.sum())"
   ]
  },
  {
   "cell_type": "markdown",
   "metadata": {},
   "source": [
    "Expirement with values of Alpha, scoring functions, and L1/L2 regulatization"
   ]
  },
  {
   "cell_type": "code",
   "execution_count": 342,
   "metadata": {
    "collapsed": true
   },
   "outputs": [],
   "source": [
    "params = {'alpha':[0.2,1.0]}"
   ]
  },
  {
   "cell_type": "code",
   "execution_count": 343,
   "metadata": {},
   "outputs": [],
   "source": [
    "gs = GridSearchCV(estimator=Ridge(),param_grid=params,cv=5,scoring='neg_mean_squared_error')"
   ]
  },
  {
   "cell_type": "code",
   "execution_count": 344,
   "metadata": {},
   "outputs": [
    {
     "data": {
      "text/plain": [
       "GridSearchCV(cv=5, error_score='raise',\n",
       "       estimator=Ridge(alpha=1.0, copy_X=True, fit_intercept=True, max_iter=None,\n",
       "   normalize=False, random_state=None, solver='auto', tol=0.001),\n",
       "       fit_params={}, iid=True, n_jobs=1, param_grid={'alpha': [0.2, 1.0]},\n",
       "       pre_dispatch='2*n_jobs', refit=True,\n",
       "       scoring='neg_mean_squared_error', verbose=0)"
      ]
     },
     "execution_count": 344,
     "metadata": {},
     "output_type": "execute_result"
    }
   ],
   "source": [
    "# Gridsearch incorporates k-folds validation\n",
    "# You do not have to create training/testing splits\n",
    "gs.fit(x_train,y_train)"
   ]
  },
  {
   "cell_type": "code",
   "execution_count": 345,
   "metadata": {},
   "outputs": [
    {
     "data": {
      "text/plain": [
       "[mean: -144863520.28643, std: 100637619.52435, params: {'alpha': 0.2},\n",
       " mean: -144863356.37355, std: 100637499.92412, params: {'alpha': 1.0}]"
      ]
     },
     "execution_count": 345,
     "metadata": {},
     "output_type": "execute_result"
    }
   ],
   "source": [
    "# View all permutation scores\n",
    "gs.grid_scores_"
   ]
  },
  {
   "cell_type": "code",
   "execution_count": 346,
   "metadata": {
    "collapsed": true
   },
   "outputs": [],
   "source": [
    "# use the best set of parameters\n",
    "lr_best = gs.best_estimator_"
   ]
  },
  {
   "cell_type": "code",
   "execution_count": 347,
   "metadata": {},
   "outputs": [
    {
     "data": {
      "text/plain": [
       "array([  17.47011885,  -21.25770002,  148.3421808 ])"
      ]
     },
     "execution_count": 347,
     "metadata": {},
     "output_type": "execute_result"
    }
   ],
   "source": [
    "lr_best.coef_"
   ]
  },
  {
   "cell_type": "code",
   "execution_count": 348,
   "metadata": {
    "collapsed": true
   },
   "outputs": [],
   "source": [
    "# try the best estimator on your holdout set"
   ]
  },
  {
   "cell_type": "code",
   "execution_count": 349,
   "metadata": {},
   "outputs": [
    {
     "data": {
      "text/plain": [
       "0.059170178387207888"
      ]
     },
     "execution_count": 349,
     "metadata": {},
     "output_type": "execute_result"
    }
   ],
   "source": [
    "(lr_best.predict(x_holdout).sum()-y_holdout.sum())/y_holdout.sum()"
   ]
  },
  {
   "cell_type": "markdown",
   "metadata": {},
   "source": [
    "## Evaluation:\n",
    "\n",
    "Did regularization improve your model? What was the impact of regularization on your features? Did regularization make any features stand out?"
   ]
  },
  {
   "cell_type": "code",
   "execution_count": null,
   "metadata": {
    "collapsed": true
   },
   "outputs": [],
   "source": [
    "#### Regularization didn't appear to help, and it didn't significantly impact the features."
   ]
  },
  {
   "cell_type": "code",
   "execution_count": null,
   "metadata": {
    "collapsed": true
   },
   "outputs": [],
   "source": []
  },
  {
   "cell_type": "code",
   "execution_count": null,
   "metadata": {
    "collapsed": true
   },
   "outputs": [],
   "source": []
  },
  {
   "cell_type": "code",
   "execution_count": null,
   "metadata": {
    "collapsed": true
   },
   "outputs": [],
   "source": []
  },
  {
   "cell_type": "code",
   "execution_count": null,
   "metadata": {
    "collapsed": true
   },
   "outputs": [],
   "source": []
  },
  {
   "cell_type": "code",
   "execution_count": null,
   "metadata": {
    "collapsed": true
   },
   "outputs": [],
   "source": []
  }
 ],
 "metadata": {
  "anaconda-cloud": {},
  "kernelspec": {
   "display_name": "Python 2",
   "language": "python",
   "name": "python2"
  },
  "language_info": {
   "codemirror_mode": {
    "name": "ipython",
    "version": 2
   },
   "file_extension": ".py",
   "mimetype": "text/x-python",
   "name": "python",
   "nbconvert_exporter": "python",
   "pygments_lexer": "ipython2",
   "version": "2.7.13"
  }
 },
 "nbformat": 4,
 "nbformat_minor": 1
}
